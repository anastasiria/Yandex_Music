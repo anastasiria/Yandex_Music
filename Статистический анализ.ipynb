{
 "cells": [
  {
   "cell_type": "markdown",
   "metadata": {
    "deletable": false,
    "id": "RrVHWePG_oCV"
   },
   "source": [
    "#  Статистический анализ\n",
    "\n",
    "## Описание проекта\n",
    "\n",
    "«Мегалайн» — федеральный оператор сотовой связи. Клиентам предлагают два тарифных плана: «Смарт» и «Ультра». Чтобы скорректировать рекламный бюджет, коммерческий департамент хочет понять, какой тариф приносит больше денег.\n",
    "\n",
    "## Цель проекта:\n",
    "\n",
    "Сделать предварительный анализ тарифов.\n",
    "Проанализировать поведение 500 клиентов, которые используютт 2 тарифа и сделать вывод — какой тариф лучше."
   ]
  },
  {
   "cell_type": "code",
   "execution_count": 4,
   "metadata": {},
   "outputs": [],
   "source": [
    "# ипортируем необходимые для проекта библиотеки\n",
    "import pandas as pd\n",
    "import numpy as np\n",
    "import seaborn as sns\n",
    "import matplotlib.pyplot as plt\n",
    "from scipy import stats as st"
   ]
  },
  {
   "cell_type": "markdown",
   "metadata": {
    "deletable": false,
    "editable": false,
    "id": "NzOeQM6C_oCY"
   },
   "source": [
    "### Откройте файл с данными и изучите общую информацию"
   ]
  },
  {
   "cell_type": "markdown",
   "metadata": {
    "deletable": false,
    "editable": false,
    "id": "jC2O2Xp9_oCZ",
    "tags": [
     "start_task"
    ]
   },
   "source": [
    "**Задание 1.** Откройте файл `/datasets/calls.csv`, сохраните датафрейм в переменную `calls`."
   ]
  },
  {
   "cell_type": "code",
   "execution_count": 5,
   "metadata": {
    "deletable": false,
    "id": "lPo8_mWg_oCZ"
   },
   "outputs": [
    {
     "ename": "FileNotFoundError",
     "evalue": "[Errno 2] No such file or directory: '/datasets/calls.csv'",
     "output_type": "error",
     "traceback": [
      "\u001b[1;31m---------------------------------------------------------------------------\u001b[0m",
      "\u001b[1;31mFileNotFoundError\u001b[0m                         Traceback (most recent call last)",
      "\u001b[1;32m~\\AppData\\Local\\Temp\\ipykernel_6548\\3782871851.py\u001b[0m in \u001b[0;36m<module>\u001b[1;34m\u001b[0m\n\u001b[1;32m----> 1\u001b[1;33m \u001b[0mcalls\u001b[0m \u001b[1;33m=\u001b[0m \u001b[0mpd\u001b[0m\u001b[1;33m.\u001b[0m\u001b[0mread_csv\u001b[0m\u001b[1;33m(\u001b[0m\u001b[1;34m'/datasets/calls.csv'\u001b[0m\u001b[1;33m)\u001b[0m\u001b[1;33m\u001b[0m\u001b[1;33m\u001b[0m\u001b[0m\n\u001b[0m",
      "\u001b[1;32mC:\\ProgramData\\Anaconda3\\lib\\site-packages\\pandas\\util\\_decorators.py\u001b[0m in \u001b[0;36mwrapper\u001b[1;34m(*args, **kwargs)\u001b[0m\n\u001b[0;32m    309\u001b[0m                     \u001b[0mstacklevel\u001b[0m\u001b[1;33m=\u001b[0m\u001b[0mstacklevel\u001b[0m\u001b[1;33m,\u001b[0m\u001b[1;33m\u001b[0m\u001b[1;33m\u001b[0m\u001b[0m\n\u001b[0;32m    310\u001b[0m                 )\n\u001b[1;32m--> 311\u001b[1;33m             \u001b[1;32mreturn\u001b[0m \u001b[0mfunc\u001b[0m\u001b[1;33m(\u001b[0m\u001b[1;33m*\u001b[0m\u001b[0margs\u001b[0m\u001b[1;33m,\u001b[0m \u001b[1;33m**\u001b[0m\u001b[0mkwargs\u001b[0m\u001b[1;33m)\u001b[0m\u001b[1;33m\u001b[0m\u001b[1;33m\u001b[0m\u001b[0m\n\u001b[0m\u001b[0;32m    312\u001b[0m \u001b[1;33m\u001b[0m\u001b[0m\n\u001b[0;32m    313\u001b[0m         \u001b[1;32mreturn\u001b[0m \u001b[0mwrapper\u001b[0m\u001b[1;33m\u001b[0m\u001b[1;33m\u001b[0m\u001b[0m\n",
      "\u001b[1;32mC:\\ProgramData\\Anaconda3\\lib\\site-packages\\pandas\\io\\parsers\\readers.py\u001b[0m in \u001b[0;36mread_csv\u001b[1;34m(filepath_or_buffer, sep, delimiter, header, names, index_col, usecols, squeeze, prefix, mangle_dupe_cols, dtype, engine, converters, true_values, false_values, skipinitialspace, skiprows, skipfooter, nrows, na_values, keep_default_na, na_filter, verbose, skip_blank_lines, parse_dates, infer_datetime_format, keep_date_col, date_parser, dayfirst, cache_dates, iterator, chunksize, compression, thousands, decimal, lineterminator, quotechar, quoting, doublequote, escapechar, comment, encoding, encoding_errors, dialect, error_bad_lines, warn_bad_lines, on_bad_lines, delim_whitespace, low_memory, memory_map, float_precision, storage_options)\u001b[0m\n\u001b[0;32m    676\u001b[0m     \u001b[0mkwds\u001b[0m\u001b[1;33m.\u001b[0m\u001b[0mupdate\u001b[0m\u001b[1;33m(\u001b[0m\u001b[0mkwds_defaults\u001b[0m\u001b[1;33m)\u001b[0m\u001b[1;33m\u001b[0m\u001b[1;33m\u001b[0m\u001b[0m\n\u001b[0;32m    677\u001b[0m \u001b[1;33m\u001b[0m\u001b[0m\n\u001b[1;32m--> 678\u001b[1;33m     \u001b[1;32mreturn\u001b[0m \u001b[0m_read\u001b[0m\u001b[1;33m(\u001b[0m\u001b[0mfilepath_or_buffer\u001b[0m\u001b[1;33m,\u001b[0m \u001b[0mkwds\u001b[0m\u001b[1;33m)\u001b[0m\u001b[1;33m\u001b[0m\u001b[1;33m\u001b[0m\u001b[0m\n\u001b[0m\u001b[0;32m    679\u001b[0m \u001b[1;33m\u001b[0m\u001b[0m\n\u001b[0;32m    680\u001b[0m \u001b[1;33m\u001b[0m\u001b[0m\n",
      "\u001b[1;32mC:\\ProgramData\\Anaconda3\\lib\\site-packages\\pandas\\io\\parsers\\readers.py\u001b[0m in \u001b[0;36m_read\u001b[1;34m(filepath_or_buffer, kwds)\u001b[0m\n\u001b[0;32m    573\u001b[0m \u001b[1;33m\u001b[0m\u001b[0m\n\u001b[0;32m    574\u001b[0m     \u001b[1;31m# Create the parser.\u001b[0m\u001b[1;33m\u001b[0m\u001b[1;33m\u001b[0m\u001b[0m\n\u001b[1;32m--> 575\u001b[1;33m     \u001b[0mparser\u001b[0m \u001b[1;33m=\u001b[0m \u001b[0mTextFileReader\u001b[0m\u001b[1;33m(\u001b[0m\u001b[0mfilepath_or_buffer\u001b[0m\u001b[1;33m,\u001b[0m \u001b[1;33m**\u001b[0m\u001b[0mkwds\u001b[0m\u001b[1;33m)\u001b[0m\u001b[1;33m\u001b[0m\u001b[1;33m\u001b[0m\u001b[0m\n\u001b[0m\u001b[0;32m    576\u001b[0m \u001b[1;33m\u001b[0m\u001b[0m\n\u001b[0;32m    577\u001b[0m     \u001b[1;32mif\u001b[0m \u001b[0mchunksize\u001b[0m \u001b[1;32mor\u001b[0m \u001b[0miterator\u001b[0m\u001b[1;33m:\u001b[0m\u001b[1;33m\u001b[0m\u001b[1;33m\u001b[0m\u001b[0m\n",
      "\u001b[1;32mC:\\ProgramData\\Anaconda3\\lib\\site-packages\\pandas\\io\\parsers\\readers.py\u001b[0m in \u001b[0;36m__init__\u001b[1;34m(self, f, engine, **kwds)\u001b[0m\n\u001b[0;32m    930\u001b[0m \u001b[1;33m\u001b[0m\u001b[0m\n\u001b[0;32m    931\u001b[0m         \u001b[0mself\u001b[0m\u001b[1;33m.\u001b[0m\u001b[0mhandles\u001b[0m\u001b[1;33m:\u001b[0m \u001b[0mIOHandles\u001b[0m \u001b[1;33m|\u001b[0m \u001b[1;32mNone\u001b[0m \u001b[1;33m=\u001b[0m \u001b[1;32mNone\u001b[0m\u001b[1;33m\u001b[0m\u001b[1;33m\u001b[0m\u001b[0m\n\u001b[1;32m--> 932\u001b[1;33m         \u001b[0mself\u001b[0m\u001b[1;33m.\u001b[0m\u001b[0m_engine\u001b[0m \u001b[1;33m=\u001b[0m \u001b[0mself\u001b[0m\u001b[1;33m.\u001b[0m\u001b[0m_make_engine\u001b[0m\u001b[1;33m(\u001b[0m\u001b[0mf\u001b[0m\u001b[1;33m,\u001b[0m \u001b[0mself\u001b[0m\u001b[1;33m.\u001b[0m\u001b[0mengine\u001b[0m\u001b[1;33m)\u001b[0m\u001b[1;33m\u001b[0m\u001b[1;33m\u001b[0m\u001b[0m\n\u001b[0m\u001b[0;32m    933\u001b[0m \u001b[1;33m\u001b[0m\u001b[0m\n\u001b[0;32m    934\u001b[0m     \u001b[1;32mdef\u001b[0m \u001b[0mclose\u001b[0m\u001b[1;33m(\u001b[0m\u001b[0mself\u001b[0m\u001b[1;33m)\u001b[0m\u001b[1;33m:\u001b[0m\u001b[1;33m\u001b[0m\u001b[1;33m\u001b[0m\u001b[0m\n",
      "\u001b[1;32mC:\\ProgramData\\Anaconda3\\lib\\site-packages\\pandas\\io\\parsers\\readers.py\u001b[0m in \u001b[0;36m_make_engine\u001b[1;34m(self, f, engine)\u001b[0m\n\u001b[0;32m   1214\u001b[0m             \u001b[1;31m# \"Union[str, PathLike[str], ReadCsvBuffer[bytes], ReadCsvBuffer[str]]\"\u001b[0m\u001b[1;33m\u001b[0m\u001b[1;33m\u001b[0m\u001b[0m\n\u001b[0;32m   1215\u001b[0m             \u001b[1;31m# , \"str\", \"bool\", \"Any\", \"Any\", \"Any\", \"Any\", \"Any\"\u001b[0m\u001b[1;33m\u001b[0m\u001b[1;33m\u001b[0m\u001b[0m\n\u001b[1;32m-> 1216\u001b[1;33m             self.handles = get_handle(  # type: ignore[call-overload]\n\u001b[0m\u001b[0;32m   1217\u001b[0m                 \u001b[0mf\u001b[0m\u001b[1;33m,\u001b[0m\u001b[1;33m\u001b[0m\u001b[1;33m\u001b[0m\u001b[0m\n\u001b[0;32m   1218\u001b[0m                 \u001b[0mmode\u001b[0m\u001b[1;33m,\u001b[0m\u001b[1;33m\u001b[0m\u001b[1;33m\u001b[0m\u001b[0m\n",
      "\u001b[1;32mC:\\ProgramData\\Anaconda3\\lib\\site-packages\\pandas\\io\\common.py\u001b[0m in \u001b[0;36mget_handle\u001b[1;34m(path_or_buf, mode, encoding, compression, memory_map, is_text, errors, storage_options)\u001b[0m\n\u001b[0;32m    784\u001b[0m         \u001b[1;32mif\u001b[0m \u001b[0mioargs\u001b[0m\u001b[1;33m.\u001b[0m\u001b[0mencoding\u001b[0m \u001b[1;32mand\u001b[0m \u001b[1;34m\"b\"\u001b[0m \u001b[1;32mnot\u001b[0m \u001b[1;32min\u001b[0m \u001b[0mioargs\u001b[0m\u001b[1;33m.\u001b[0m\u001b[0mmode\u001b[0m\u001b[1;33m:\u001b[0m\u001b[1;33m\u001b[0m\u001b[1;33m\u001b[0m\u001b[0m\n\u001b[0;32m    785\u001b[0m             \u001b[1;31m# Encoding\u001b[0m\u001b[1;33m\u001b[0m\u001b[1;33m\u001b[0m\u001b[0m\n\u001b[1;32m--> 786\u001b[1;33m             handle = open(\n\u001b[0m\u001b[0;32m    787\u001b[0m                 \u001b[0mhandle\u001b[0m\u001b[1;33m,\u001b[0m\u001b[1;33m\u001b[0m\u001b[1;33m\u001b[0m\u001b[0m\n\u001b[0;32m    788\u001b[0m                 \u001b[0mioargs\u001b[0m\u001b[1;33m.\u001b[0m\u001b[0mmode\u001b[0m\u001b[1;33m,\u001b[0m\u001b[1;33m\u001b[0m\u001b[1;33m\u001b[0m\u001b[0m\n",
      "\u001b[1;31mFileNotFoundError\u001b[0m: [Errno 2] No such file or directory: '/datasets/calls.csv'"
     ]
    }
   ],
   "source": [
    "calls = pd.read_csv('/datasets/calls.csv')"
   ]
  },
  {
   "cell_type": "markdown",
   "metadata": {
    "deletable": false,
    "editable": false,
    "id": "3TyWmQAR_oCZ",
    "tags": [
     "start_task"
    ]
   },
   "source": [
    "**Задание 2.** Выведите первые 5 строк датафрейма `calls`."
   ]
  },
  {
   "cell_type": "code",
   "execution_count": null,
   "metadata": {
    "deletable": false,
    "id": "mdxHj-qz_oCZ"
   },
   "outputs": [],
   "source": [
    "calls.head()"
   ]
  },
  {
   "cell_type": "markdown",
   "metadata": {
    "deletable": false,
    "editable": false,
    "id": "7pmWVJ8J_oCa",
    "tags": [
     "start_task"
    ]
   },
   "source": [
    "**Задание 3.** Выведите основную информацию для датафрейма `calls` с помощью метода `info()`."
   ]
  },
  {
   "cell_type": "code",
   "execution_count": null,
   "metadata": {
    "deletable": false,
    "id": "wiDgaGnA_oCa"
   },
   "outputs": [],
   "source": [
    "calls.info()"
   ]
  },
  {
   "cell_type": "markdown",
   "metadata": {
    "deletable": false,
    "editable": false,
    "id": "IVqIQLOq_oCa",
    "tags": [
     "start_task"
    ]
   },
   "source": [
    "**Задание 4.** С помощью метода `hist()` выведите гистограмму для столбца с продолжительностью звонков. Подумайте о том, как распределены данные."
   ]
  },
  {
   "cell_type": "code",
   "execution_count": null,
   "metadata": {
    "deletable": false,
    "id": "sKOklkAe_oCa"
   },
   "outputs": [],
   "source": [
    "calls.hist('duration')"
   ]
  },
  {
   "cell_type": "markdown",
   "metadata": {
    "deletable": false,
    "editable": false,
    "id": "NAXd4x_4_oCa",
    "tags": [
     "start_task"
    ]
   },
   "source": [
    "**Задание 5.** Откройте файл `/datasets/internet.csv`, сохраните датафрейм в переменную `sessions`."
   ]
  },
  {
   "cell_type": "code",
   "execution_count": null,
   "metadata": {
    "deletable": false,
    "id": "Wf_f3Vkc_oCa"
   },
   "outputs": [],
   "source": [
    "sessions = pd.read_csv('/datasets/internet.csv')"
   ]
  },
  {
   "cell_type": "markdown",
   "metadata": {
    "deletable": false,
    "editable": false,
    "id": "StL-wNRI_oCb",
    "tags": [
     "start_task"
    ]
   },
   "source": [
    "**Задание 6.** Выведите первые 5 строк датафрейма `sessions`."
   ]
  },
  {
   "cell_type": "code",
   "execution_count": null,
   "metadata": {
    "deletable": false,
    "id": "LsRkGeG7_oCb"
   },
   "outputs": [],
   "source": [
    "sessions.head()"
   ]
  },
  {
   "cell_type": "markdown",
   "metadata": {
    "deletable": false,
    "editable": false,
    "id": "WyUFK2C6_oCb",
    "tags": [
     "start_task"
    ]
   },
   "source": [
    "**Задание 7.** Выведите основную информацию для датафрейма `sessions` с помощью метода `info()`. "
   ]
  },
  {
   "cell_type": "code",
   "execution_count": null,
   "metadata": {
    "deletable": false,
    "id": "0fLAUTTQ_oCb"
   },
   "outputs": [],
   "source": [
    "sessions.info()"
   ]
  },
  {
   "cell_type": "markdown",
   "metadata": {
    "deletable": false,
    "editable": false,
    "id": "DpvGfws5_oCb",
    "tags": [
     "start_task"
    ]
   },
   "source": [
    "**Задание 8.** С помощью метода `hist()` выведите гистограмму для столбца с количеством потраченных мегабайт."
   ]
  },
  {
   "cell_type": "code",
   "execution_count": null,
   "metadata": {
    "deletable": false,
    "id": "_uke6m2-_oCb"
   },
   "outputs": [],
   "source": [
    "sessions.hist('mb_used')"
   ]
  },
  {
   "cell_type": "code",
   "execution_count": null,
   "metadata": {},
   "outputs": [],
   "source": [
    "sessions.head()"
   ]
  },
  {
   "cell_type": "markdown",
   "metadata": {
    "deletable": false,
    "editable": false,
    "id": "OhXx4G1f_oCb",
    "tags": [
     "start_task"
    ]
   },
   "source": [
    "**Задание 9.** Откройте файл `/datasets/messages.csv`, сохраните датафрейм в переменную `messages`."
   ]
  },
  {
   "cell_type": "code",
   "execution_count": null,
   "metadata": {
    "deletable": false,
    "id": "UKrQhgvV_oCc"
   },
   "outputs": [],
   "source": [
    "messages = pd.read_csv('/datasets/messages.csv')"
   ]
  },
  {
   "cell_type": "markdown",
   "metadata": {
    "deletable": false,
    "editable": false,
    "id": "SyaWBm9T_oCc",
    "tags": [
     "start_task"
    ]
   },
   "source": [
    "**Задание 10.** Выведите первые 5 строк датафрейма `messages`."
   ]
  },
  {
   "cell_type": "code",
   "execution_count": null,
   "metadata": {
    "deletable": false,
    "id": "1_zOkvJO_oCc"
   },
   "outputs": [],
   "source": [
    "messages.head()"
   ]
  },
  {
   "cell_type": "markdown",
   "metadata": {
    "deletable": false,
    "editable": false,
    "id": "0VBJNN-T_oCc",
    "tags": [
     "start_task"
    ]
   },
   "source": [
    "**Задание 11.** Выведите основную информацию для датафрейма `messages` с помощью метода `info()`. "
   ]
  },
  {
   "cell_type": "code",
   "execution_count": null,
   "metadata": {
    "deletable": false,
    "id": "wrgl0LdX_oCc"
   },
   "outputs": [],
   "source": [
    "messages.info()"
   ]
  },
  {
   "cell_type": "markdown",
   "metadata": {
    "deletable": false,
    "editable": false,
    "id": "KhSrBR96_oCc",
    "tags": [
     "start_task"
    ]
   },
   "source": [
    "**Задание 12.** Откройте файл `/datasets/tariffs.csv`, сохраните датафрейм в переменную `tariffs`."
   ]
  },
  {
   "cell_type": "code",
   "execution_count": null,
   "metadata": {
    "deletable": false,
    "id": "3V2mBbx5_oCc"
   },
   "outputs": [],
   "source": [
    "tariffs = pd.read_csv('/datasets/tariffs.csv')"
   ]
  },
  {
   "cell_type": "markdown",
   "metadata": {
    "deletable": false,
    "editable": false,
    "id": "oGNMcS4U_oCc",
    "tags": [
     "start_task"
    ]
   },
   "source": [
    "**Задание 13.** Выведите весь датафрейм `tariffs`."
   ]
  },
  {
   "cell_type": "code",
   "execution_count": null,
   "metadata": {
    "deletable": false,
    "id": "aa6cdOI9_oCd"
   },
   "outputs": [],
   "source": [
    "tariffs.head()"
   ]
  },
  {
   "cell_type": "markdown",
   "metadata": {
    "deletable": false,
    "editable": false,
    "id": "jDruO0mX_oCd",
    "tags": [
     "start_task"
    ]
   },
   "source": [
    "**Задание 14.** Выведите основную информацию для датафрейма `tariffs` с помощью метода `info()`."
   ]
  },
  {
   "cell_type": "code",
   "execution_count": null,
   "metadata": {
    "deletable": false,
    "id": "YgK7d8XT_oCd"
   },
   "outputs": [],
   "source": [
    "tariffs.info()"
   ]
  },
  {
   "cell_type": "markdown",
   "metadata": {
    "deletable": false,
    "editable": false,
    "id": "20KVeYwe_oCd",
    "tags": [
     "start_task"
    ]
   },
   "source": [
    "**Задание 15.** Откройте файл `/datasets/users.csv`, сохраните датафрейм в переменную `users`."
   ]
  },
  {
   "cell_type": "code",
   "execution_count": null,
   "metadata": {
    "deletable": false,
    "id": "v5NwQmKo_oCd"
   },
   "outputs": [],
   "source": [
    "users = pd.read_csv('/datasets/users.csv')"
   ]
  },
  {
   "cell_type": "markdown",
   "metadata": {
    "deletable": false,
    "editable": false,
    "id": "q0SqMiTs_oCd",
    "tags": [
     "start_task"
    ]
   },
   "source": [
    "**Задание 16.** Выведите первые 5 строк датафрейма `users`."
   ]
  },
  {
   "cell_type": "code",
   "execution_count": null,
   "metadata": {
    "deletable": false,
    "id": "TwMOUDXV_oCe"
   },
   "outputs": [],
   "source": [
    "users.head()"
   ]
  },
  {
   "cell_type": "markdown",
   "metadata": {
    "deletable": false,
    "editable": false,
    "id": "YE-wtjlL_oCe",
    "tags": [
     "start_task"
    ]
   },
   "source": [
    "**Задание 17.** Выведите основную информацию для датафрейма `users` с помощью метода `info()`."
   ]
  },
  {
   "cell_type": "code",
   "execution_count": null,
   "metadata": {
    "deletable": false,
    "id": "WgiCfvjJ_oCe"
   },
   "outputs": [],
   "source": [
    "users.info()"
   ]
  },
  {
   "cell_type": "markdown",
   "metadata": {
    "deletable": false,
    "editable": false,
    "id": "Y0kllEng_oCf"
   },
   "source": [
    "### Подготовьте данные"
   ]
  },
  {
   "cell_type": "markdown",
   "metadata": {
    "deletable": false,
    "editable": false,
    "id": "EyLIy5lh_oCf",
    "tags": [
     "start_task"
    ]
   },
   "source": [
    "**Задание 18.**  Приведите столбцы\n",
    "\n",
    "- `reg_date` из таблицы `users`\n",
    "- `churn_date` из таблицы `users`\n",
    "- `call_date` из таблицы `calls`\n",
    "- `message_date` из таблицы `messages`\n",
    "- `session_date` из таблицы `sessions`\n",
    "\n",
    "к новому типу с помощью метода `to_datetime()`."
   ]
  },
  {
   "cell_type": "code",
   "execution_count": null,
   "metadata": {},
   "outputs": [],
   "source": [
    "sessions.head()"
   ]
  },
  {
   "cell_type": "code",
   "execution_count": null,
   "metadata": {
    "deletable": false,
    "id": "Ig2hAtil_oCh"
   },
   "outputs": [],
   "source": [
    "# обработка столбца reg_date\n",
    "users['reg_date'] = pd.to_datetime(users['reg_date'],format='%Y-%m-%dT%H:%M:%S')\n",
    "# обработка столбца churn_date\n",
    "users['churn_date'] = pd.to_datetime(users['churn_date'],format='%Y-%m-%dT%H:%M:%S')\n",
    "\n",
    "# обработка столбца call_date\n",
    "calls['call_date'] = pd.to_datetime(calls['call_date'],format='%Y-%m-%dT%H:%M:%S')\n",
    "# обработка столбца message_date\n",
    "messages['message_date'] = pd.to_datetime(messages['message_date'],format='%Y-%m-%dT%H:%M:%S')\n",
    "# обработка столбца session_date\n",
    "sessions['session_date'] = pd.to_datetime(sessions['session_date'],format='%Y-%m-%dT%H:%M:%S')"
   ]
  },
  {
   "cell_type": "code",
   "execution_count": null,
   "metadata": {},
   "outputs": [],
   "source": [
    "sessions.head()"
   ]
  },
  {
   "cell_type": "markdown",
   "metadata": {
    "deletable": false,
    "editable": false,
    "id": "xZgEKVdX_oCi",
    "tags": [
     "start_task"
    ]
   },
   "source": [
    "**Задание 19.** В данных вы найдёте звонки с нулевой продолжительностью. Это не ошибка: нулями обозначены пропущенные звонки, поэтому их не нужно удалять.\n",
    "\n",
    "Однако в столбце `duration` датафрейма `calls` значения дробные. Округлите значения столбца `duration` вверх с помощью метода `numpy.ceil()` и приведите столбец `duration` к типу `int`."
   ]
  },
  {
   "cell_type": "code",
   "execution_count": null,
   "metadata": {
    "deletable": false,
    "id": "7Msb3UqS_oCj"
   },
   "outputs": [],
   "source": [
    "# округление значений столбца duration с помощью np.ceil() и приведение типа к int\n",
    "calls['duration'] = np.ceil(calls['duration'])\n",
    "calls['duration'] = calls['duration'].astype(int)"
   ]
  },
  {
   "cell_type": "markdown",
   "metadata": {
    "deletable": false,
    "editable": false,
    "id": "u-6V42lj_oCj",
    "tags": [
     "start_task"
    ]
   },
   "source": [
    "**Задание 20.** Удалите столбец `Unnamed: 0` из датафрейма `sessions`. Столбец с таким названием возникает, когда данные сохраняют с указанием индекса (`df.to_csv(..., index=column)`). Он сейчас не понадобится."
   ]
  },
  {
   "cell_type": "code",
   "execution_count": null,
   "metadata": {
    "deletable": false,
    "id": "0qBUTIJK_oCj"
   },
   "outputs": [],
   "source": [
    "#sessions = sessions.drop(sessions['Unnamed: 0'])\n",
    "sessions = sessions.drop('Unnamed: 0', axis=1)"
   ]
  },
  {
   "cell_type": "markdown",
   "metadata": {
    "deletable": false,
    "editable": false,
    "id": "HlB1e_bN_oCj",
    "tags": [
     "start_task"
    ]
   },
   "source": [
    "**Задание 21.** Создайте столбец `month` в датафрейме `calls` с номером месяца из столбца `call_date`."
   ]
  },
  {
   "cell_type": "code",
   "execution_count": null,
   "metadata": {
    "deletable": false,
    "id": "qepFbMhq_oCj"
   },
   "outputs": [],
   "source": [
    "calls['month'] = calls['call_date'].dt.month\n",
    "calls.head()"
   ]
  },
  {
   "cell_type": "markdown",
   "metadata": {
    "deletable": false,
    "editable": false,
    "id": "nQUHs3Gx_oCk",
    "tags": [
     "start_task"
    ]
   },
   "source": [
    "**Задание 22.** Создайте столбец `month` в датафрейме `messages` с номером месяца из столбца `message_date`."
   ]
  },
  {
   "cell_type": "code",
   "execution_count": null,
   "metadata": {
    "deletable": false,
    "id": "2evOzw_K_oCk"
   },
   "outputs": [],
   "source": [
    "messages['month'] = messages['message_date'].dt.month"
   ]
  },
  {
   "cell_type": "markdown",
   "metadata": {
    "deletable": false,
    "editable": false,
    "id": "IbLqO0z-_oCk",
    "tags": [
     "start_task"
    ]
   },
   "source": [
    "**Задание 23.** Создайте столбец `month` в датафрейме `sessions` с номером месяца из столбца `session_date`."
   ]
  },
  {
   "cell_type": "code",
   "execution_count": null,
   "metadata": {
    "deletable": false,
    "id": "dKZPB_eo_oCk"
   },
   "outputs": [],
   "source": [
    "sessions['month'] = sessions['session_date'].dt.month"
   ]
  },
  {
   "cell_type": "code",
   "execution_count": null,
   "metadata": {},
   "outputs": [],
   "source": [
    "calls.head()"
   ]
  },
  {
   "cell_type": "markdown",
   "metadata": {
    "deletable": false,
    "editable": false,
    "id": "VLMTL8f0_oCk",
    "tags": [
     "start_task"
    ]
   },
   "source": [
    "**Задание 24.** Посчитайте количество сделанных звонков разговора для каждого пользователя по месяцам."
   ]
  },
  {
   "cell_type": "code",
   "execution_count": null,
   "metadata": {
    "deletable": false,
    "id": "tMAmcPhC_oCl"
   },
   "outputs": [],
   "source": [
    "# подсчёт количества звонков для каждого пользователя по месяцам\n",
    "#calls_per_mont = calls.groupby('id')['month'].agg(calls=('duration', 'count'))\n",
    "calls_per_month = calls.groupby(['user_id', 'month']).agg(calls=('duration', 'count'))"
   ]
  },
  {
   "cell_type": "code",
   "execution_count": null,
   "metadata": {
    "deletable": false,
    "id": "r8pvxWhj_oCl"
   },
   "outputs": [],
   "source": [
    "# вывод 30 первых строк на экран\n",
    "calls_per_month.head(30)"
   ]
  },
  {
   "cell_type": "markdown",
   "metadata": {
    "deletable": false,
    "editable": false,
    "id": "2DUx3WnM_oCl",
    "tags": [
     "start_task"
    ]
   },
   "source": [
    "**Задание 25.** Посчитайте количество израсходованных минут разговора для каждого пользователя по месяцам и сохраните в переменную `minutes_per_month`. Вам понадобится\n",
    "\n",
    "- сгруппировать датафрейм с информацией о звонках по двум столбцам — с идентификаторами пользователей и номерами месяцев;\n",
    "- после группировки выбрать столбец `duration`\n",
    "- затем применить метод для подсчёта суммы.\n",
    "\n",
    "Выведите первые 30 строчек `minutes_per_month`."
   ]
  },
  {
   "cell_type": "code",
   "execution_count": null,
   "metadata": {
    "deletable": false,
    "id": "ehr5Lhq-_oCl"
   },
   "outputs": [],
   "source": [
    "# подсчёт израсходованных минут для каждого пользователя по месяцам\n",
    "\n",
    "minutes_per_month = calls.groupby(['user_id', 'month']).agg(minutes=('duration', 'sum'))\n"
   ]
  },
  {
   "cell_type": "code",
   "execution_count": null,
   "metadata": {
    "deletable": false,
    "id": "-vbsnfVq_oCl"
   },
   "outputs": [],
   "source": [
    "# вывод первых 30 строк на экран\n",
    "minutes_per_month.head(30)"
   ]
  },
  {
   "cell_type": "markdown",
   "metadata": {
    "deletable": false,
    "editable": false,
    "id": "bjTWE47D_oCl",
    "tags": [
     "start_task"
    ]
   },
   "source": [
    "**Задание 26.** Посчитайте количество отправленных сообщений по месяцам для каждого пользователя и сохраните в переменную `messages_per_month`. Вам понадобится\n",
    "\n",
    "- сгруппировать датафрейм с информацией о сообщениях по двум столбцам — с идентификаторами пользователей и номерами месяцев;\n",
    "- после группировки выбрать столбец `message_date`;\n",
    "- затем применить метод для подсчёта количества.\n",
    "\n",
    "Выведите первые 30 строчек `messages_per_month`."
   ]
  },
  {
   "cell_type": "code",
   "execution_count": null,
   "metadata": {
    "deletable": false,
    "id": "YiS9waG7_oCl"
   },
   "outputs": [],
   "source": [
    "# подсчёт количества отправленных сообщений для каждого пользователя по месяцам\n",
    "messages_per_month = messages.groupby(['user_id', 'month']).agg(messages=('message_date', 'count'))"
   ]
  },
  {
   "cell_type": "code",
   "execution_count": null,
   "metadata": {
    "deletable": false,
    "id": "aaDNanZ0_oCm"
   },
   "outputs": [],
   "source": [
    "# вывод первых 30 строк на экран\n",
    "messages_per_month.head(30)"
   ]
  },
  {
   "cell_type": "markdown",
   "metadata": {
    "deletable": false,
    "editable": false,
    "id": "9PZFHjUU_oCm",
    "tags": [
     "start_task"
    ]
   },
   "source": [
    "**Задание 27.** Посчитайте количество потраченных мегабайт по месяцам для каждого пользователя и сохраните в переменную `sessions_per_month`. Вам понадобится\n",
    "\n",
    "- сгруппировать датафрейм с информацией о сообщениях по двум столбцам — с идентификаторами пользователей и номерами месяцев;\n",
    "- затем применить метод для подсчёта суммы: `.agg({'mb_used': 'sum'})`"
   ]
  },
  {
   "cell_type": "code",
   "execution_count": null,
   "metadata": {
    "deletable": false,
    "id": "-ITlvcsU_oCm"
   },
   "outputs": [],
   "source": [
    "# подсчёт потраченных мегабайт для каждого пользователя по месяцам\n",
    "sessions_per_month = sessions.groupby(['user_id', 'month']).agg({'mb_used': 'sum'})"
   ]
  },
  {
   "cell_type": "code",
   "execution_count": null,
   "metadata": {
    "deletable": false,
    "id": "YF7FQfXf_oCm"
   },
   "outputs": [],
   "source": [
    "# вывод первых 30 строк на экран\n",
    "sessions_per_month.head(30)"
   ]
  },
  {
   "cell_type": "markdown",
   "metadata": {
    "deletable": false,
    "editable": false,
    "id": "GF37Inq-_oCn"
   },
   "source": [
    "### Анализ данных и подсчёт выручки"
   ]
  },
  {
   "cell_type": "markdown",
   "metadata": {
    "deletable": false,
    "editable": false,
    "id": "7U9eZ81t_oCn"
   },
   "source": [
    "Объединяем все посчитанные выше значения в один датафрейм `user_behavior`.\n",
    "Для каждой пары «пользователь — месяц» будут доступны информация о тарифе, количестве звонков, сообщений и потраченных мегабайтах."
   ]
  },
  {
   "cell_type": "code",
   "execution_count": null,
   "metadata": {
    "deletable": false,
    "id": "SDchqQI5_oCn",
    "outputId": "760b21d8-9344-46a3-9c6e-a3cbbc7dd542"
   },
   "outputs": [],
   "source": [
    "users['churn_date'].count() / users['churn_date'].shape[0] * 100"
   ]
  },
  {
   "cell_type": "markdown",
   "metadata": {
    "deletable": false,
    "editable": false,
    "id": "7jb0qJhe_oCn"
   },
   "source": [
    "Расторгли договор 7.6% клиентов из датасета"
   ]
  },
  {
   "cell_type": "code",
   "execution_count": null,
   "metadata": {
    "deletable": false,
    "id": "QJuiD1cd_oCo",
    "outputId": "60af33ba-196b-464c-e15d-239dd446a4f4"
   },
   "outputs": [],
   "source": [
    "user_behavior = calls_per_month\\\n",
    "    .merge(messages_per_month, left_index=True, right_index=True, how='outer')\\\n",
    "    .merge(sessions_per_month, left_index=True, right_index=True, how='outer')\\\n",
    "    .merge(minutes_per_month, left_index=True, right_index=True, how='outer')\\\n",
    "    .reset_index()\\\n",
    "    .merge(users, how='left', left_on='user_id', right_on='user_id')\\\n",
    "\n",
    "user_behavior.head()"
   ]
  },
  {
   "cell_type": "markdown",
   "metadata": {
    "deletable": false,
    "editable": false,
    "id": "9Kif7-vi_oCo"
   },
   "source": [
    "Проверим пропуски в таблице `user_behavior` после объединения:"
   ]
  },
  {
   "cell_type": "code",
   "execution_count": null,
   "metadata": {
    "deletable": false,
    "id": "MExwRr6x_oCo",
    "outputId": "1362c11d-ba78-47b6-8495-ba877c2cae38"
   },
   "outputs": [],
   "source": [
    "user_behavior.isna().sum()"
   ]
  },
  {
   "cell_type": "markdown",
   "metadata": {
    "deletable": false,
    "editable": false,
    "id": "eNUHBFPI_oCo"
   },
   "source": [
    "Заполним образовавшиеся пропуски в данных:"
   ]
  },
  {
   "cell_type": "code",
   "execution_count": null,
   "metadata": {
    "deletable": false,
    "id": "2aCyfvNX_oCo"
   },
   "outputs": [],
   "source": [
    "user_behavior['calls'] = user_behavior['calls'].fillna(0)\n",
    "user_behavior['minutes'] = user_behavior['minutes'].fillna(0)\n",
    "user_behavior['messages'] = user_behavior['messages'].fillna(0)\n",
    "user_behavior['mb_used'] = user_behavior['mb_used'].fillna(0)"
   ]
  },
  {
   "cell_type": "markdown",
   "metadata": {
    "deletable": false,
    "editable": false,
    "id": "JTszP_Iy_oCo"
   },
   "source": [
    "Присоединяем информацию о тарифах"
   ]
  },
  {
   "cell_type": "code",
   "execution_count": null,
   "metadata": {
    "deletable": false,
    "id": "zmnnqTIq_oCo"
   },
   "outputs": [],
   "source": [
    "# переименование столбца tariff_name на более простое tariff\n",
    "\n",
    "tariffs = tariffs.rename(\n",
    "    columns={\n",
    "        'tariff_name': 'tariff'\n",
    "    }\n",
    ")"
   ]
  },
  {
   "cell_type": "code",
   "execution_count": null,
   "metadata": {
    "deletable": false,
    "id": "hop7kFhB_oCp"
   },
   "outputs": [],
   "source": [
    "user_behavior = user_behavior.merge(tariffs, on='tariff')"
   ]
  },
  {
   "cell_type": "markdown",
   "metadata": {
    "deletable": false,
    "editable": false,
    "id": "aJZeqJwL_oCp"
   },
   "source": [
    "Считаем количество минут разговора, сообщений и мегабайт, превышающих включённые в тариф\n"
   ]
  },
  {
   "cell_type": "code",
   "execution_count": null,
   "metadata": {
    "deletable": false,
    "id": "1Tcf3IxI_oCp"
   },
   "outputs": [],
   "source": [
    "user_behavior['paid_minutes'] = user_behavior['minutes'] - user_behavior['minutes_included']\n",
    "user_behavior['paid_messages'] = user_behavior['messages'] - user_behavior['messages_included']\n",
    "user_behavior['paid_mb'] = user_behavior['mb_used'] - user_behavior['mb_per_month_included']\n",
    "\n",
    "for col in ['paid_messages', 'paid_minutes', 'paid_mb']:\n",
    "    user_behavior.loc[user_behavior[col] < 0, col] = 0"
   ]
  },
  {
   "cell_type": "markdown",
   "metadata": {
    "deletable": false,
    "editable": false,
    "id": "9mf7Pko9_oCp"
   },
   "source": [
    "Переводим превышающие тариф мегабайты в гигабайты и сохраняем в столбец `paid_gb`"
   ]
  },
  {
   "cell_type": "code",
   "execution_count": null,
   "metadata": {
    "deletable": false,
    "id": "cct5ZB60_oCp"
   },
   "outputs": [],
   "source": [
    "user_behavior['paid_gb'] = np.ceil(user_behavior['paid_mb'] / 1024).astype(int)"
   ]
  },
  {
   "cell_type": "markdown",
   "metadata": {
    "deletable": false,
    "editable": false,
    "id": "KEZ1rO-r_oCp"
   },
   "source": [
    "Считаем выручку за минуты разговора, сообщения и интернет"
   ]
  },
  {
   "cell_type": "code",
   "execution_count": null,
   "metadata": {
    "deletable": false,
    "id": "U302RLm6_oCp"
   },
   "outputs": [],
   "source": [
    "user_behavior['cost_minutes'] = user_behavior['paid_minutes'] * user_behavior['rub_per_minute']\n",
    "user_behavior['cost_messages'] = user_behavior['paid_messages'] * user_behavior['rub_per_message']\n",
    "user_behavior['cost_gb'] = user_behavior['paid_gb'] * user_behavior['rub_per_gb']"
   ]
  },
  {
   "cell_type": "markdown",
   "metadata": {
    "deletable": false,
    "editable": false,
    "id": "18ruYfTJ_oCp"
   },
   "source": [
    "Считаем помесячную выручку с каждого пользователя, она будет храниться в столбце `total_cost`"
   ]
  },
  {
   "cell_type": "code",
   "execution_count": null,
   "metadata": {
    "deletable": false,
    "id": "Uf2YyazE_oCp"
   },
   "outputs": [],
   "source": [
    "user_behavior['total_cost'] = \\\n",
    "      user_behavior['rub_monthly_fee']\\\n",
    "    + user_behavior['cost_minutes']\\\n",
    "    + user_behavior['cost_messages']\\\n",
    "    + user_behavior['cost_gb']"
   ]
  },
  {
   "cell_type": "markdown",
   "metadata": {
    "deletable": false,
    "editable": false,
    "id": "49WKdXmA_oCp"
   },
   "source": [
    "Датафрейм `stats_df` для каждой пары «месяц — тариф» будет хранить основные характеристики"
   ]
  },
  {
   "cell_type": "code",
   "execution_count": 8,
   "metadata": {
    "deletable": false,
    "id": "4V-Kl67S_oCp",
    "outputId": "ed8b1220-debd-42f0-9941-3acb27e94db1"
   },
   "outputs": [
    {
     "ename": "NameError",
     "evalue": "name 'user_behavior' is not defined",
     "output_type": "error",
     "traceback": [
      "\u001b[1;31m---------------------------------------------------------------------------\u001b[0m",
      "\u001b[1;31mNameError\u001b[0m                                 Traceback (most recent call last)",
      "\u001b[1;32m~\\AppData\\Local\\Temp\\ipykernel_6548\\257533752.py\u001b[0m in \u001b[0;36m<module>\u001b[1;34m\u001b[0m\n\u001b[0;32m      2\u001b[0m \u001b[1;31m# в одной таблице stats_df (среднее значение, стандартное отклонение, медиана)\u001b[0m\u001b[1;33m\u001b[0m\u001b[1;33m\u001b[0m\u001b[0m\n\u001b[0;32m      3\u001b[0m \u001b[1;33m\u001b[0m\u001b[0m\n\u001b[1;32m----> 4\u001b[1;33m stats_df = user_behavior.pivot_table(\n\u001b[0m\u001b[0;32m      5\u001b[0m             \u001b[0mindex\u001b[0m\u001b[1;33m=\u001b[0m\u001b[1;33m[\u001b[0m\u001b[1;34m'month'\u001b[0m\u001b[1;33m,\u001b[0m \u001b[1;34m'tariff'\u001b[0m\u001b[1;33m]\u001b[0m\u001b[1;33m,\u001b[0m\u001b[0;31m\\\u001b[0m\u001b[1;33m\u001b[0m\u001b[1;33m\u001b[0m\u001b[0m\n\u001b[0;32m      6\u001b[0m             \u001b[0mvalues\u001b[0m\u001b[1;33m=\u001b[0m\u001b[1;33m[\u001b[0m\u001b[1;34m'calls'\u001b[0m\u001b[1;33m,\u001b[0m \u001b[1;34m'minutes'\u001b[0m\u001b[1;33m,\u001b[0m \u001b[1;34m'messages'\u001b[0m\u001b[1;33m,\u001b[0m \u001b[1;34m'mb_used'\u001b[0m\u001b[1;33m]\u001b[0m\u001b[1;33m,\u001b[0m\u001b[0;31m\\\u001b[0m\u001b[1;33m\u001b[0m\u001b[1;33m\u001b[0m\u001b[0m\n",
      "\u001b[1;31mNameError\u001b[0m: name 'user_behavior' is not defined"
     ]
    }
   ],
   "source": [
    "# сохранение статистических метрик для каждой пары месяц-тариф\n",
    "# в одной таблице stats_df (среднее значение, стандартное отклонение, медиана)\n",
    "\n",
    "stats_df = user_behavior.pivot_table(\n",
    "            index=['month', 'tariff'],\\\n",
    "            values=['calls', 'minutes', 'messages', 'mb_used'],\\\n",
    "            aggfunc=['mean', 'std', 'median']\\\n",
    ").round(2).reset_index()\n",
    "\n",
    "stats_df.columns=['month', 'tariff', 'calls_mean', 'sessions_mean', 'messages_mean', 'minutes_mean',\n",
    "                                     'calls_std',  'sessions_std', 'messages_std', 'minutes_std', \n",
    "                                     'calls_median', 'sessions_median', 'messages_median',  'minutes_median']\n",
    "\n",
    "stats_df.head(10)"
   ]
  },
  {
   "cell_type": "markdown",
   "metadata": {
    "deletable": false,
    "editable": false,
    "id": "HBjTHsiq_oCq"
   },
   "source": [
    "Распределение среднего количества звонков по видам тарифов и месяцам"
   ]
  },
  {
   "cell_type": "code",
   "execution_count": null,
   "metadata": {
    "deletable": false,
    "id": "HKlQp7la_oCq",
    "outputId": "18ba7a99-d460-44f5-9c08-a67e71e18aa2"
   },
   "outputs": [],
   "source": [
    "ax = sns.barplot(x='month',\n",
    "            y='calls_mean',\n",
    "            hue=\"tariff\",\n",
    "            data=stats_df,\n",
    "            palette=['lightblue', 'blue'])\n",
    "\n",
    "ax.set_title('Распределение количества звонков по видам тарифов и месяцам')\n",
    "ax.set(xlabel='Номер месяца', ylabel='Среднее количество звонков');"
   ]
  },
  {
   "cell_type": "code",
   "execution_count": 7,
   "metadata": {
    "deletable": false,
    "id": "LBzNZDS1_oCq",
    "outputId": "12f9ceca-41e4-4ff9-ebf7-1a778751b299"
   },
   "outputs": [
    {
     "ename": "NameError",
     "evalue": "name 'user_behavior' is not defined",
     "output_type": "error",
     "traceback": [
      "\u001b[1;31m---------------------------------------------------------------------------\u001b[0m",
      "\u001b[1;31mNameError\u001b[0m                                 Traceback (most recent call last)",
      "\u001b[1;32m~\\AppData\\Local\\Temp\\ipykernel_6548\\871173558.py\u001b[0m in \u001b[0;36m<module>\u001b[1;34m\u001b[0m\n\u001b[1;32m----> 1\u001b[1;33m \u001b[0muser_behavior\u001b[0m\u001b[1;33m.\u001b[0m\u001b[0mgroupby\u001b[0m\u001b[1;33m(\u001b[0m\u001b[1;34m'tariff'\u001b[0m\u001b[1;33m)\u001b[0m\u001b[1;33m[\u001b[0m\u001b[1;34m'calls'\u001b[0m\u001b[1;33m]\u001b[0m\u001b[1;33m.\u001b[0m\u001b[0mplot\u001b[0m\u001b[1;33m(\u001b[0m\u001b[0mkind\u001b[0m\u001b[1;33m=\u001b[0m\u001b[1;34m'hist'\u001b[0m\u001b[1;33m,\u001b[0m \u001b[0mbins\u001b[0m\u001b[1;33m=\u001b[0m\u001b[1;36m35\u001b[0m\u001b[1;33m,\u001b[0m \u001b[0malpha\u001b[0m\u001b[1;33m=\u001b[0m\u001b[1;36m0.5\u001b[0m\u001b[1;33m)\u001b[0m\u001b[1;33m\u001b[0m\u001b[1;33m\u001b[0m\u001b[0m\n\u001b[0m\u001b[0;32m      2\u001b[0m \u001b[0mplt\u001b[0m\u001b[1;33m.\u001b[0m\u001b[0mlegend\u001b[0m\u001b[1;33m(\u001b[0m\u001b[1;33m[\u001b[0m\u001b[1;34m'Smart'\u001b[0m\u001b[1;33m,\u001b[0m \u001b[1;34m'Ultra'\u001b[0m\u001b[1;33m]\u001b[0m\u001b[1;33m)\u001b[0m\u001b[1;33m\u001b[0m\u001b[1;33m\u001b[0m\u001b[0m\n\u001b[0;32m      3\u001b[0m \u001b[0mplt\u001b[0m\u001b[1;33m.\u001b[0m\u001b[0mxlabel\u001b[0m\u001b[1;33m(\u001b[0m\u001b[1;34m'Количество звонков'\u001b[0m\u001b[1;33m)\u001b[0m\u001b[1;33m\u001b[0m\u001b[1;33m\u001b[0m\u001b[0m\n\u001b[0;32m      4\u001b[0m \u001b[0mplt\u001b[0m\u001b[1;33m.\u001b[0m\u001b[0mylabel\u001b[0m\u001b[1;33m(\u001b[0m\u001b[1;34m'Количество клиентов'\u001b[0m\u001b[1;33m)\u001b[0m\u001b[1;33m\u001b[0m\u001b[1;33m\u001b[0m\u001b[0m\n\u001b[0;32m      5\u001b[0m \u001b[0mplt\u001b[0m\u001b[1;33m.\u001b[0m\u001b[0mshow\u001b[0m\u001b[1;33m(\u001b[0m\u001b[1;33m)\u001b[0m\u001b[1;33m\u001b[0m\u001b[1;33m\u001b[0m\u001b[0m\n",
      "\u001b[1;31mNameError\u001b[0m: name 'user_behavior' is not defined"
     ]
    }
   ],
   "source": [
    "user_behavior.groupby('tariff')['calls'].plot(kind='hist', bins=35, alpha=0.5)\n",
    "plt.legend(['Smart', 'Ultra'])\n",
    "plt.xlabel('Количество звонков')\n",
    "plt.ylabel('Количество клиентов')\n",
    "plt.show()"
   ]
  },
  {
   "cell_type": "markdown",
   "metadata": {
    "deletable": false,
    "editable": false,
    "id": "6ApNiP3G_oCq"
   },
   "source": [
    "Распределение средней продолжительности звонков по видам тарифов и месяцам"
   ]
  },
  {
   "cell_type": "code",
   "execution_count": null,
   "metadata": {
    "deletable": false,
    "id": "NB9xuopA_oCq",
    "outputId": "f4f1696b-7a58-41b3-8085-f86e0c866bc9"
   },
   "outputs": [],
   "source": [
    "ax = sns.barplot(x='month',\n",
    "            y='minutes_mean',\n",
    "            hue=\"tariff\",\n",
    "            data=stats_df,\n",
    "            palette=['lightblue', 'blue'])\n",
    "\n",
    "ax.set_title('Распределение продолжительности звонков по видам тарифов и месяцам')\n",
    "ax.set(xlabel='Номер месяца', ylabel='Средняя продолжительность звонков');"
   ]
  },
  {
   "cell_type": "code",
   "execution_count": null,
   "metadata": {
    "deletable": false,
    "id": "eL5SHsdq_oCq",
    "outputId": "21d15fb2-0f41-46cb-b0ab-a31874d3d201"
   },
   "outputs": [],
   "source": [
    "user_behavior[user_behavior['tariff'] =='smart']['minutes'].hist(bins=35, alpha=0.5, color='green')\n",
    "user_behavior[user_behavior['tariff'] =='ultra']['minutes'].hist(bins=35, alpha=0.5, color='blue');"
   ]
  },
  {
   "cell_type": "markdown",
   "metadata": {
    "deletable": false,
    "editable": false,
    "id": "G3NDyWZy_oCq"
   },
   "source": [
    "Средняя длительность разговоров у абонентов тарифа Ultra больше, чем у абонентов тарифа Smart. В течение года пользователи обоих тарифов увеличивают среднюю продолжительность своих разговоров. Рост средней длительности разговоров у абонентов тарифа Smart равномерный в течение года. Пользователи тарифа Ultra не проявляют подобной линейной стабильности. Стоит отметить, что феврале у абонентов обоих тарифных планов наблюдались самые низкие показатели."
   ]
  },
  {
   "cell_type": "markdown",
   "metadata": {
    "deletable": false,
    "editable": false,
    "id": "ils1vnE7_oCq"
   },
   "source": [
    "Распределение среднего количества сообщений по видам тарифов и месяцам"
   ]
  },
  {
   "cell_type": "code",
   "execution_count": null,
   "metadata": {
    "deletable": false,
    "id": "zkSEsDH__oCq",
    "outputId": "34370df8-5375-4a80-b1f5-ad6d556f6a54"
   },
   "outputs": [],
   "source": [
    "ax = sns.barplot(x='month',\n",
    "            y='messages_mean',\n",
    "            hue=\"tariff\",\n",
    "            data=stats_df,\n",
    "            palette=['lightblue', 'blue']\n",
    ")\n",
    "\n",
    "ax.set_title('Распределение количества сообщений по видам тарифов и месяцам')\n",
    "ax.set(xlabel='Номер месяца', ylabel='Среднее количество сообщений');"
   ]
  },
  {
   "cell_type": "code",
   "execution_count": null,
   "metadata": {
    "deletable": false,
    "id": "I97vMndq_oCq",
    "outputId": "87f68d2f-ac58-4253-ccbb-70e81f073a41"
   },
   "outputs": [],
   "source": [
    "user_behavior[user_behavior['tariff'] =='smart']['messages'].hist(bins=35, alpha=0.5, color='green')\n",
    "user_behavior[user_behavior['tariff'] =='ultra']['messages'].hist(bins=35, alpha=0.5, color='blue');"
   ]
  },
  {
   "cell_type": "markdown",
   "metadata": {
    "id": "IKu7ZqEy_oCq"
   },
   "source": [
    "В среднем пользователи тарифа Ultra отправляют больше сообщений — почти на 20 сообщений больше, чем пользователи тарифа Smart. Количество сообщений в течение года на обоих тарифах растёт. Динамика по отправке сообщений схожа с тенденциями по длительности разговоров: в феврале отмечено наименьшее количество сообщений за год и пользователи тарифа Ultra также проявляют нелинейную положительную динамику."
   ]
  },
  {
   "cell_type": "code",
   "execution_count": null,
   "metadata": {
    "deletable": false,
    "id": "q866NzDW_oCr",
    "outputId": "18a00f1a-0227-4176-da41-47d448aecc0b"
   },
   "outputs": [],
   "source": [
    "ax = sns.barplot(x='month',\n",
    "            y='sessions_mean',\n",
    "            hue='tariff',\n",
    "            data=stats_df,\n",
    "            palette=['lightblue', 'blue']\n",
    ")\n",
    "\n",
    "ax.set_title('Распределение количества потраченного трафика (Мб) по видам тарифов и месяцам')\n",
    "ax.set(xlabel='Номер месяца', ylabel='Среднее количество мегабайт');"
   ]
  },
  {
   "cell_type": "markdown",
   "metadata": {
    "deletable": false,
    "editable": false,
    "id": "an1c3noO_oCr"
   },
   "source": [
    "Сравнение потраченных мегабайт среди пользователей тарифов Smart и Ultra"
   ]
  },
  {
   "cell_type": "code",
   "execution_count": null,
   "metadata": {
    "deletable": false,
    "id": "Czm2mIhd_oCr",
    "outputId": "af40db5d-21b7-4991-bcfb-cd57eec6bb3d"
   },
   "outputs": [],
   "source": [
    "user_behavior[user_behavior['tariff'] =='smart']['mb_used'].hist(bins=35, alpha=0.5, color='green')\n",
    "user_behavior[user_behavior['tariff'] =='ultra']['mb_used'].hist(bins=35, alpha=0.5, color='blue');"
   ]
  },
  {
   "cell_type": "markdown",
   "metadata": {
    "deletable": false,
    "editable": false,
    "id": "DQp_KGw1_oCr"
   },
   "source": [
    "Меньше всего пользователи использовали интернет в январе, феврале и апреле. Чаще всего абоненты тарифа Smart тратят 15–17 Гб, а абоненты тарифного плана Ultra — 19–21 ГБ."
   ]
  },
  {
   "cell_type": "markdown",
   "metadata": {
    "deletable": false,
    "editable": false,
    "id": "aKJz6DhN_oCr"
   },
   "source": [
    "### Проверка гипотез"
   ]
  },
  {
   "cell_type": "markdown",
   "metadata": {
    "deletable": false,
    "editable": false,
    "id": "FW2jChme_oCr",
    "tags": [
     "start_task"
    ]
   },
   "source": [
    "**Задание 28.** Проверка гипотезы: средняя выручка пользователей тарифов «Ультра» и «Смарт» различается;\n",
    "\n",
    "```\n",
    "H_0: Выручка (total_cost) пользователей \"Ультра\" = выручка (total_cost) пользователей \"Смарт\"`\n",
    "H_a: Выручка (total_cost) пользователей \"Ультра\" ≠ выручка (total_cost) пользователей \"Смарт\"`\n",
    "alpha = 0.05\n",
    "```"
   ]
  },
  {
   "cell_type": "code",
   "execution_count": null,
   "metadata": {
    "deletable": false,
    "id": "02sfJAHr_oCr"
   },
   "outputs": [],
   "source": []
  },
  {
   "cell_type": "code",
   "execution_count": null,
   "metadata": {
    "deletable": false,
    "id": "OxsrhJXE_oCr"
   },
   "outputs": [],
   "source": [
    "sample_1 = user_behavior.loc[user_behavior['tariff']=='ultra']\n",
    "sample_2 = user_behavior.loc[user_behavior['tariff']=='smart']\n",
    "\n",
    "# results = вызов метода для проверки гипотезы\n",
    "results = st.ttest_ind(sample_1['total_cost'], sample_2['total_cost'], equal_var=False)\n",
    "# alpha = задайте значение уровня значимости\n",
    "alpha = 0.05\n",
    "# вывод значения p-value на экран \n",
    "print(results.pvalue)\n",
    "# условный оператор с выводом строки с ответом\n",
    "if results.pvalue < alpha:\n",
    "    print('Отвергаем нулевую гипотезу')\n",
    "else:\n",
    "    print('Не получилось отвергнуть нулевую гипотезу')"
   ]
  },
  {
   "cell_type": "markdown",
   "metadata": {
    "deletable": false,
    "editable": false,
    "id": "-ENs-XhC_oCr",
    "tags": [
     "start_task"
    ]
   },
   "source": [
    "**Задание 29.** Проверка гипотезы: средняя выручка с пользователей из Москвы отличается от выручки c пользователей других регионов; \n",
    "\n",
    "```\n",
    "H_0: Выручка (total_cost) пользователей из Москвы = выручка (total_cost) пользователей не из Москвы`\n",
    "H_1: Выручка (total_cost) пользователей из Москвы ≠ выручка (total_cost) пользователей не из Москвы`\n",
    "alpha = 0.05\n",
    "```"
   ]
  },
  {
   "cell_type": "code",
   "execution_count": null,
   "metadata": {
    "deletable": false,
    "id": "RznkRUuu_oCr"
   },
   "outputs": [],
   "source": [
    "sample_1 = user_behavior.loc[user_behavior['city']=='Москва']\n",
    "sample_2 = user_behavior.loc[user_behavior['city']!='Москва']\n",
    "\n",
    "\n",
    "# results = вызов метода для проверки гипотезы\n",
    "results = st.ttest_ind(sample_1['total_cost'],sample_2['total_cost'], equal_var=False)\n",
    "# alpha = задайте значение уровня значимости\n",
    "alpha = 0.05\n",
    "# вывод значения p-value на экран \n",
    "print(results.pvalue)\n",
    "# условный оператор с выводом строки с ответом\n",
    "if results.pvalue < alpha:\n",
    "    print('Отвергаем нулевую гипотезу')\n",
    "else:\n",
    "    print('Не получилось отвергнуть нулевую гипотезу')"
   ]
  },
  {
   "cell_type": "markdown",
   "metadata": {},
   "source": [
    "# Вывод:\n",
    "\n",
    "По тарифу Ультра пользователи чаще совершают звонки, чем по тарифу Смарт. Самое большое количество зконков приходится на декабрь. Тогда пользователи тарифа Ультра звонят около 80 раз, а пользователи Смарта около 68 раз.\n",
    "\n",
    "Средняя продолжительность звонков по тарифу Ультра также выше, чем по тарифу Смарт. Самая высокая продолжительность звонков в декабре. В тарифе Ультра продолжительность равна почти 600 секундам, а на тарифе Смарт около 550 секунд.\n",
    "\n",
    " В течение года пользователи обоих тарифов увеличивают среднюю продолжительность своих разговоров. Рост средней длительности разговоров у абонентов тарифа Smart равномерный в течение года. Пользователи тарифа Ultra не проявляют подобной линейной стабильности. Стоит отметить, что феврале у абонентов обоих тарифных планов наблюдались самые низкие показатели.\n",
    " \n",
    " Начиная с февраля месяца количество сообщений отправленных на тарифе Ультра уверенно растет до декабря. А у клиентов, использующих тариф Смарт наблюдается рост с января по март, но затем количество сообщений остается на одном уровне.\n",
    " \n",
    " В среднем пользователи тарифа Ultra отправляют больше сообщений — почти на 20 сообщений больше, чем пользователи тарифа Smart. Количество сообщений в течение года на обоих тарифах растёт. Динамика по отправке сообщений схожа с тенденциями по длительности разговоров: в феврале отмечено наименьшее количество сообщений за год и пользователи тарифа Ultra также проявляют нелинейную положительную динамику.\n",
    " \n",
    " Меньше всего пользователи использовали интернет в январе, феврале и апреле. Чаще всего абоненты тарифа Smart тратят 15–17 Гб, а абоненты тарифного плана Ultra — 19–21 ГБ.\n",
    " \n",
    " При анализе гипотез в ходе стат теста была отвергнута нулевая гипотеза. Выручка пользователей тарифов Ультра и Смарт не равна.\n",
    " \n",
    " А вторая гипотеза оказалась правдивой. Выручка пользователей из Москвы равна выручке получаемой от пользователей не из Москвы.\n"
   ]
  },
  {
   "cell_type": "code",
   "execution_count": null,
   "metadata": {},
   "outputs": [],
   "source": []
  }
 ],
 "metadata": {
  "ExecuteTimeLog": [
   {
    "duration": 56,
    "start_time": "2023-02-10T08:35:38.915Z"
   },
   {
    "duration": 7,
    "start_time": "2023-02-10T08:35:45.799Z"
   },
   {
    "duration": 411,
    "start_time": "2023-02-10T08:35:48.468Z"
   },
   {
    "duration": 579,
    "start_time": "2023-02-10T08:35:50.244Z"
   },
   {
    "duration": 23,
    "start_time": "2023-02-10T08:35:51.886Z"
   },
   {
    "duration": 36,
    "start_time": "2023-02-10T08:35:54.036Z"
   },
   {
    "duration": 697,
    "start_time": "2023-02-10T08:35:56.589Z"
   },
   {
    "duration": 189,
    "start_time": "2023-02-10T08:36:17.381Z"
   },
   {
    "duration": 457,
    "start_time": "2023-02-10T08:37:00.884Z"
   },
   {
    "duration": 14,
    "start_time": "2023-02-10T08:37:27.083Z"
   },
   {
    "duration": 31,
    "start_time": "2023-02-10T08:37:56.363Z"
   },
   {
    "duration": 411,
    "start_time": "2023-02-10T08:38:17.175Z"
   },
   {
    "duration": 161,
    "start_time": "2023-02-10T08:38:34.187Z"
   },
   {
    "duration": 461,
    "start_time": "2023-02-10T08:39:11.146Z"
   },
   {
    "duration": 13,
    "start_time": "2023-02-10T08:39:36.324Z"
   },
   {
    "duration": 19,
    "start_time": "2023-02-10T08:39:50.185Z"
   },
   {
    "duration": 90,
    "start_time": "2023-02-10T08:40:22.045Z"
   },
   {
    "duration": 9,
    "start_time": "2023-02-10T08:40:45.291Z"
   },
   {
    "duration": 8,
    "start_time": "2023-02-10T08:40:51.340Z"
   },
   {
    "duration": 11,
    "start_time": "2023-02-10T08:52:41.025Z"
   },
   {
    "duration": 109,
    "start_time": "2023-02-10T08:53:53.833Z"
   },
   {
    "duration": 39,
    "start_time": "2023-02-10T08:54:19.585Z"
   },
   {
    "duration": 44,
    "start_time": "2023-02-10T08:54:54.676Z"
   },
   {
    "duration": 44,
    "start_time": "2023-02-10T08:56:18.975Z"
   },
   {
    "duration": 56,
    "start_time": "2023-02-10T08:57:28.938Z"
   },
   {
    "duration": 52,
    "start_time": "2023-02-10T09:04:29.076Z"
   },
   {
    "duration": 13,
    "start_time": "2023-02-10T09:07:25.680Z"
   },
   {
    "duration": 39,
    "start_time": "2023-02-10T09:07:43.307Z"
   },
   {
    "duration": 3,
    "start_time": "2023-02-10T09:11:06.380Z"
   },
   {
    "duration": 216,
    "start_time": "2023-02-10T09:11:06.386Z"
   },
   {
    "duration": 12,
    "start_time": "2023-02-10T09:11:06.605Z"
   },
   {
    "duration": 45,
    "start_time": "2023-02-10T09:11:06.619Z"
   },
   {
    "duration": 184,
    "start_time": "2023-02-10T09:11:06.671Z"
   },
   {
    "duration": 159,
    "start_time": "2023-02-10T09:11:06.856Z"
   },
   {
    "duration": 9,
    "start_time": "2023-02-10T09:11:07.016Z"
   },
   {
    "duration": 49,
    "start_time": "2023-02-10T09:11:07.027Z"
   },
   {
    "duration": 162,
    "start_time": "2023-02-10T09:11:07.085Z"
   },
   {
    "duration": 103,
    "start_time": "2023-02-10T09:11:07.255Z"
   },
   {
    "duration": 10,
    "start_time": "2023-02-10T09:11:07.364Z"
   },
   {
    "duration": 28,
    "start_time": "2023-02-10T09:11:07.379Z"
   },
   {
    "duration": 16,
    "start_time": "2023-02-10T09:11:07.409Z"
   },
   {
    "duration": 10,
    "start_time": "2023-02-10T09:11:07.429Z"
   },
   {
    "duration": 29,
    "start_time": "2023-02-10T09:11:07.440Z"
   },
   {
    "duration": 56,
    "start_time": "2023-02-10T09:11:07.471Z"
   },
   {
    "duration": 12,
    "start_time": "2023-02-10T09:11:07.528Z"
   },
   {
    "duration": 5,
    "start_time": "2023-02-10T09:11:07.542Z"
   },
   {
    "duration": 35,
    "start_time": "2023-02-10T09:11:07.550Z"
   },
   {
    "duration": 16,
    "start_time": "2023-02-10T09:11:07.586Z"
   },
   {
    "duration": 23,
    "start_time": "2023-02-10T09:11:07.604Z"
   },
   {
    "duration": 15,
    "start_time": "2023-02-10T09:11:07.629Z"
   },
   {
    "duration": 47,
    "start_time": "2023-02-10T09:11:07.646Z"
   },
   {
    "duration": 15,
    "start_time": "2023-02-10T09:11:07.696Z"
   },
   {
    "duration": 26,
    "start_time": "2023-02-10T09:11:07.713Z"
   },
   {
    "duration": 40,
    "start_time": "2023-02-10T09:11:07.740Z"
   },
   {
    "duration": 30,
    "start_time": "2023-02-10T09:11:07.781Z"
   },
   {
    "duration": 30,
    "start_time": "2023-02-10T09:11:07.813Z"
   },
   {
    "duration": 70,
    "start_time": "2023-02-10T09:11:07.845Z"
   },
   {
    "duration": 0,
    "start_time": "2023-02-10T09:11:07.917Z"
   },
   {
    "duration": 0,
    "start_time": "2023-02-10T09:11:07.918Z"
   },
   {
    "duration": 0,
    "start_time": "2023-02-10T09:11:07.919Z"
   },
   {
    "duration": 0,
    "start_time": "2023-02-10T09:11:07.920Z"
   },
   {
    "duration": 0,
    "start_time": "2023-02-10T09:11:07.922Z"
   },
   {
    "duration": 0,
    "start_time": "2023-02-10T09:11:07.923Z"
   },
   {
    "duration": 0,
    "start_time": "2023-02-10T09:11:07.924Z"
   },
   {
    "duration": 0,
    "start_time": "2023-02-10T09:11:07.925Z"
   },
   {
    "duration": 0,
    "start_time": "2023-02-10T09:11:07.941Z"
   },
   {
    "duration": 0,
    "start_time": "2023-02-10T09:11:07.942Z"
   },
   {
    "duration": 0,
    "start_time": "2023-02-10T09:11:07.944Z"
   },
   {
    "duration": 0,
    "start_time": "2023-02-10T09:11:07.945Z"
   },
   {
    "duration": 0,
    "start_time": "2023-02-10T09:11:07.946Z"
   },
   {
    "duration": 0,
    "start_time": "2023-02-10T09:11:07.947Z"
   },
   {
    "duration": 0,
    "start_time": "2023-02-10T09:11:07.948Z"
   },
   {
    "duration": 0,
    "start_time": "2023-02-10T09:11:07.949Z"
   },
   {
    "duration": 0,
    "start_time": "2023-02-10T09:11:07.950Z"
   },
   {
    "duration": 0,
    "start_time": "2023-02-10T09:11:07.950Z"
   },
   {
    "duration": 0,
    "start_time": "2023-02-10T09:11:07.955Z"
   },
   {
    "duration": 0,
    "start_time": "2023-02-10T09:11:07.956Z"
   },
   {
    "duration": 39,
    "start_time": "2023-02-10T09:11:33.392Z"
   },
   {
    "duration": 8,
    "start_time": "2023-02-10T09:13:16.325Z"
   },
   {
    "duration": 48,
    "start_time": "2023-02-10T09:37:55.458Z"
   },
   {
    "duration": 58,
    "start_time": "2023-02-10T09:42:30.059Z"
   },
   {
    "duration": 3,
    "start_time": "2023-02-10T09:46:55.428Z"
   },
   {
    "duration": 190,
    "start_time": "2023-02-10T09:46:55.433Z"
   },
   {
    "duration": 8,
    "start_time": "2023-02-10T09:46:55.625Z"
   },
   {
    "duration": 44,
    "start_time": "2023-02-10T09:46:55.635Z"
   },
   {
    "duration": 178,
    "start_time": "2023-02-10T09:46:55.682Z"
   },
   {
    "duration": 127,
    "start_time": "2023-02-10T09:46:55.861Z"
   },
   {
    "duration": 9,
    "start_time": "2023-02-10T09:46:55.989Z"
   },
   {
    "duration": 39,
    "start_time": "2023-02-10T09:46:55.999Z"
   },
   {
    "duration": 228,
    "start_time": "2023-02-10T09:46:56.040Z"
   },
   {
    "duration": 123,
    "start_time": "2023-02-10T09:46:56.271Z"
   },
   {
    "duration": 11,
    "start_time": "2023-02-10T09:46:56.397Z"
   },
   {
    "duration": 33,
    "start_time": "2023-02-10T09:46:56.409Z"
   },
   {
    "duration": 17,
    "start_time": "2023-02-10T09:46:56.448Z"
   },
   {
    "duration": 11,
    "start_time": "2023-02-10T09:46:56.467Z"
   },
   {
    "duration": 37,
    "start_time": "2023-02-10T09:46:56.480Z"
   },
   {
    "duration": 65,
    "start_time": "2023-02-10T09:46:56.520Z"
   },
   {
    "duration": 17,
    "start_time": "2023-02-10T09:46:56.588Z"
   },
   {
    "duration": 120,
    "start_time": "2023-02-10T09:46:56.607Z"
   },
   {
    "duration": 25,
    "start_time": "2023-02-10T09:46:56.729Z"
   },
   {
    "duration": 0,
    "start_time": "2023-02-10T09:46:56.758Z"
   },
   {
    "duration": 0,
    "start_time": "2023-02-10T09:46:56.759Z"
   },
   {
    "duration": 0,
    "start_time": "2023-02-10T09:46:56.761Z"
   },
   {
    "duration": 0,
    "start_time": "2023-02-10T09:46:56.762Z"
   },
   {
    "duration": 0,
    "start_time": "2023-02-10T09:46:56.764Z"
   },
   {
    "duration": 0,
    "start_time": "2023-02-10T09:46:56.765Z"
   },
   {
    "duration": 0,
    "start_time": "2023-02-10T09:46:56.767Z"
   },
   {
    "duration": 0,
    "start_time": "2023-02-10T09:46:56.769Z"
   },
   {
    "duration": 0,
    "start_time": "2023-02-10T09:46:56.771Z"
   },
   {
    "duration": 0,
    "start_time": "2023-02-10T09:46:56.772Z"
   },
   {
    "duration": 1,
    "start_time": "2023-02-10T09:46:56.773Z"
   },
   {
    "duration": 0,
    "start_time": "2023-02-10T09:46:56.775Z"
   },
   {
    "duration": 0,
    "start_time": "2023-02-10T09:46:56.777Z"
   },
   {
    "duration": 0,
    "start_time": "2023-02-10T09:46:56.778Z"
   },
   {
    "duration": 0,
    "start_time": "2023-02-10T09:46:56.780Z"
   },
   {
    "duration": 0,
    "start_time": "2023-02-10T09:46:56.782Z"
   },
   {
    "duration": 0,
    "start_time": "2023-02-10T09:46:56.784Z"
   },
   {
    "duration": 0,
    "start_time": "2023-02-10T09:46:56.785Z"
   },
   {
    "duration": 0,
    "start_time": "2023-02-10T09:46:56.787Z"
   },
   {
    "duration": 0,
    "start_time": "2023-02-10T09:46:56.788Z"
   },
   {
    "duration": 0,
    "start_time": "2023-02-10T09:46:56.792Z"
   },
   {
    "duration": 0,
    "start_time": "2023-02-10T09:46:56.793Z"
   },
   {
    "duration": 0,
    "start_time": "2023-02-10T09:46:56.794Z"
   },
   {
    "duration": 0,
    "start_time": "2023-02-10T09:46:56.795Z"
   },
   {
    "duration": 0,
    "start_time": "2023-02-10T09:46:56.796Z"
   },
   {
    "duration": 0,
    "start_time": "2023-02-10T09:46:56.797Z"
   },
   {
    "duration": 0,
    "start_time": "2023-02-10T09:46:56.798Z"
   },
   {
    "duration": 0,
    "start_time": "2023-02-10T09:46:56.798Z"
   },
   {
    "duration": 0,
    "start_time": "2023-02-10T09:46:56.848Z"
   },
   {
    "duration": 0,
    "start_time": "2023-02-10T09:46:56.849Z"
   },
   {
    "duration": 8,
    "start_time": "2023-02-10T09:51:34.690Z"
   },
   {
    "duration": 91,
    "start_time": "2023-02-10T09:57:06.261Z"
   },
   {
    "duration": 76,
    "start_time": "2023-02-10T09:57:45.368Z"
   },
   {
    "duration": 93,
    "start_time": "2023-02-10T10:30:06.125Z"
   },
   {
    "duration": 5,
    "start_time": "2023-02-10T10:30:06.220Z"
   },
   {
    "duration": 1336,
    "start_time": "2023-02-10T10:30:08.177Z"
   },
   {
    "duration": 10,
    "start_time": "2023-02-10T10:30:21.464Z"
   },
   {
    "duration": 23,
    "start_time": "2023-02-10T10:32:13.177Z"
   },
   {
    "duration": 1340,
    "start_time": "2023-02-10T10:35:28.044Z"
   },
   {
    "duration": 1358,
    "start_time": "2023-02-10T10:42:36.317Z"
   },
   {
    "duration": 13,
    "start_time": "2023-02-10T10:42:44.446Z"
   },
   {
    "duration": 1338,
    "start_time": "2023-02-10T10:43:02.761Z"
   },
   {
    "duration": 41,
    "start_time": "2023-02-10T10:43:40.463Z"
   },
   {
    "duration": 30,
    "start_time": "2023-02-10T10:43:45.137Z"
   },
   {
    "duration": 7,
    "start_time": "2023-02-10T10:49:14.565Z"
   },
   {
    "duration": 1263,
    "start_time": "2023-02-10T10:49:19.856Z"
   },
   {
    "duration": 28,
    "start_time": "2023-02-10T10:49:24.132Z"
   },
   {
    "duration": 16,
    "start_time": "2023-02-10T10:49:43.162Z"
   },
   {
    "duration": 10,
    "start_time": "2023-02-10T10:49:49.360Z"
   },
   {
    "duration": 10,
    "start_time": "2023-02-10T10:50:21.631Z"
   },
   {
    "duration": 13,
    "start_time": "2023-02-10T10:54:06.878Z"
   },
   {
    "duration": 9,
    "start_time": "2023-02-10T10:59:14.789Z"
   },
   {
    "duration": 22,
    "start_time": "2023-02-10T10:59:29.490Z"
   },
   {
    "duration": 8,
    "start_time": "2023-02-10T10:59:33.280Z"
   },
   {
    "duration": 9,
    "start_time": "2023-02-10T10:59:35.801Z"
   },
   {
    "duration": 24,
    "start_time": "2023-02-10T10:59:37.920Z"
   },
   {
    "duration": 14,
    "start_time": "2023-02-10T10:59:39.601Z"
   },
   {
    "duration": 16,
    "start_time": "2023-02-10T10:59:41.077Z"
   },
   {
    "duration": 9,
    "start_time": "2023-02-10T11:01:50.077Z"
   },
   {
    "duration": 6,
    "start_time": "2023-02-10T11:02:17.676Z"
   },
   {
    "duration": 9,
    "start_time": "2023-02-10T11:02:22.247Z"
   },
   {
    "duration": 16,
    "start_time": "2023-02-10T11:08:14.689Z"
   },
   {
    "duration": 10,
    "start_time": "2023-02-10T11:30:42.125Z"
   },
   {
    "duration": 39,
    "start_time": "2023-02-10T11:31:06.921Z"
   },
   {
    "duration": 36,
    "start_time": "2023-02-10T11:31:15.780Z"
   },
   {
    "duration": 52,
    "start_time": "2023-02-10T11:31:19.038Z"
   },
   {
    "duration": 10,
    "start_time": "2023-02-10T11:31:30.544Z"
   },
   {
    "duration": 188,
    "start_time": "2023-02-10T11:31:41.618Z"
   },
   {
    "duration": 8,
    "start_time": "2023-02-10T11:31:43.926Z"
   },
   {
    "duration": 27,
    "start_time": "2023-02-10T11:31:45.489Z"
   },
   {
    "duration": 166,
    "start_time": "2023-02-10T11:31:48.773Z"
   },
   {
    "duration": 161,
    "start_time": "2023-02-10T11:31:51.017Z"
   },
   {
    "duration": 9,
    "start_time": "2023-02-10T11:31:52.383Z"
   },
   {
    "duration": 28,
    "start_time": "2023-02-10T11:31:55.237Z"
   },
   {
    "duration": 162,
    "start_time": "2023-02-10T11:31:58.129Z"
   },
   {
    "duration": 115,
    "start_time": "2023-02-10T11:32:01.278Z"
   },
   {
    "duration": 15,
    "start_time": "2023-02-10T11:32:06.163Z"
   },
   {
    "duration": 20,
    "start_time": "2023-02-10T11:32:09.574Z"
   },
   {
    "duration": 31,
    "start_time": "2023-02-10T11:32:12.633Z"
   },
   {
    "duration": 9,
    "start_time": "2023-02-10T11:32:14.279Z"
   },
   {
    "duration": 24,
    "start_time": "2023-02-10T11:32:17.143Z"
   },
   {
    "duration": 42,
    "start_time": "2023-02-10T11:32:20.375Z"
   },
   {
    "duration": 23,
    "start_time": "2023-02-10T11:32:21.742Z"
   },
   {
    "duration": 10,
    "start_time": "2023-02-10T11:32:24.438Z"
   },
   {
    "duration": 11,
    "start_time": "2023-02-10T11:32:33.814Z"
   },
   {
    "duration": 80,
    "start_time": "2023-02-10T11:32:44.520Z"
   },
   {
    "duration": 7,
    "start_time": "2023-02-10T11:32:46.882Z"
   },
   {
    "duration": 41,
    "start_time": "2023-02-10T11:32:50.322Z"
   },
   {
    "duration": 1473,
    "start_time": "2023-02-10T11:33:15.097Z"
   },
   {
    "duration": 4,
    "start_time": "2023-02-10T11:33:35.290Z"
   },
   {
    "duration": 96,
    "start_time": "2023-02-10T11:35:20.214Z"
   },
   {
    "duration": 7,
    "start_time": "2023-02-10T11:35:43.130Z"
   },
   {
    "duration": 7,
    "start_time": "2023-02-10T11:36:05.931Z"
   },
   {
    "duration": 184,
    "start_time": "2023-02-10T11:36:13.502Z"
   },
   {
    "duration": 16,
    "start_time": "2023-02-10T11:36:15.253Z"
   },
   {
    "duration": 48,
    "start_time": "2023-02-10T11:36:17.844Z"
   },
   {
    "duration": 171,
    "start_time": "2023-02-10T11:36:21.525Z"
   },
   {
    "duration": 150,
    "start_time": "2023-02-10T11:36:28.063Z"
   },
   {
    "duration": 18,
    "start_time": "2023-02-10T11:36:29.815Z"
   },
   {
    "duration": 22,
    "start_time": "2023-02-10T11:36:32.609Z"
   },
   {
    "duration": 174,
    "start_time": "2023-02-10T11:36:35.408Z"
   },
   {
    "duration": 12,
    "start_time": "2023-02-10T11:36:51.112Z"
   },
   {
    "duration": 10,
    "start_time": "2023-02-10T11:37:13.581Z"
   },
   {
    "duration": 81,
    "start_time": "2023-02-10T11:37:20.080Z"
   },
   {
    "duration": 8,
    "start_time": "2023-02-10T11:37:32.285Z"
   },
   {
    "duration": 11,
    "start_time": "2023-02-10T11:37:44.116Z"
   },
   {
    "duration": 45,
    "start_time": "2023-02-10T11:37:46.898Z"
   },
   {
    "duration": 9,
    "start_time": "2023-02-10T11:48:15.616Z"
   },
   {
    "duration": 172,
    "start_time": "2023-02-10T11:49:45.032Z"
   },
   {
    "duration": 87,
    "start_time": "2023-02-10T11:52:25.332Z"
   },
   {
    "duration": 16,
    "start_time": "2023-02-10T11:52:31.117Z"
   },
   {
    "duration": 3,
    "start_time": "2023-02-10T14:28:25.183Z"
   },
   {
    "duration": 167,
    "start_time": "2023-02-10T14:28:26.546Z"
   },
   {
    "duration": 8,
    "start_time": "2023-02-10T14:28:27.802Z"
   },
   {
    "duration": 35,
    "start_time": "2023-02-10T14:28:29.825Z"
   },
   {
    "duration": 172,
    "start_time": "2023-02-10T14:28:32.058Z"
   },
   {
    "duration": 134,
    "start_time": "2023-02-10T14:28:34.688Z"
   },
   {
    "duration": 8,
    "start_time": "2023-02-10T14:28:36.234Z"
   },
   {
    "duration": 20,
    "start_time": "2023-02-10T14:28:38.235Z"
   },
   {
    "duration": 157,
    "start_time": "2023-02-10T14:28:40.518Z"
   },
   {
    "duration": 12,
    "start_time": "2023-02-10T14:28:42.969Z"
   },
   {
    "duration": 119,
    "start_time": "2023-02-10T14:28:44.721Z"
   },
   {
    "duration": 11,
    "start_time": "2023-02-10T14:28:46.067Z"
   },
   {
    "duration": 19,
    "start_time": "2023-02-10T14:28:48.352Z"
   },
   {
    "duration": 29,
    "start_time": "2023-02-10T14:28:50.786Z"
   },
   {
    "duration": 8,
    "start_time": "2023-02-10T14:28:52.240Z"
   },
   {
    "duration": 11,
    "start_time": "2023-02-10T14:28:54.449Z"
   },
   {
    "duration": 39,
    "start_time": "2023-02-10T14:28:56.841Z"
   },
   {
    "duration": 13,
    "start_time": "2023-02-10T14:28:58.361Z"
   },
   {
    "duration": 12,
    "start_time": "2023-02-10T14:29:00.579Z"
   },
   {
    "duration": 8,
    "start_time": "2023-02-10T14:29:06.582Z"
   },
   {
    "duration": 74,
    "start_time": "2023-02-10T14:29:06.642Z"
   },
   {
    "duration": 9,
    "start_time": "2023-02-10T14:29:08.209Z"
   },
   {
    "duration": 7,
    "start_time": "2023-02-10T14:29:11.057Z"
   },
   {
    "duration": 8,
    "start_time": "2023-02-10T14:29:22.146Z"
   },
   {
    "duration": 17,
    "start_time": "2023-02-10T14:29:56.620Z"
   },
   {
    "duration": 20,
    "start_time": "2023-02-10T14:29:57.970Z"
   },
   {
    "duration": 10,
    "start_time": "2023-02-10T14:31:52.319Z"
   },
   {
    "duration": 22,
    "start_time": "2023-02-10T14:31:57.939Z"
   },
   {
    "duration": 8,
    "start_time": "2023-02-10T14:32:15.821Z"
   },
   {
    "duration": 9,
    "start_time": "2023-02-10T14:32:37.582Z"
   },
   {
    "duration": 24,
    "start_time": "2023-02-10T14:32:41.717Z"
   },
   {
    "duration": 34,
    "start_time": "2023-02-10T14:34:10.327Z"
   },
   {
    "duration": 2,
    "start_time": "2023-02-10T14:34:21.628Z"
   },
   {
    "duration": 172,
    "start_time": "2023-02-10T14:34:23.124Z"
   },
   {
    "duration": 8,
    "start_time": "2023-02-10T14:34:24.280Z"
   },
   {
    "duration": 25,
    "start_time": "2023-02-10T14:34:26.265Z"
   },
   {
    "duration": 196,
    "start_time": "2023-02-10T14:34:28.393Z"
   },
   {
    "duration": 167,
    "start_time": "2023-02-10T14:34:30.522Z"
   },
   {
    "duration": 10,
    "start_time": "2023-02-10T14:34:31.850Z"
   },
   {
    "duration": 35,
    "start_time": "2023-02-10T14:34:34.165Z"
   },
   {
    "duration": 145,
    "start_time": "2023-02-10T14:34:35.561Z"
   },
   {
    "duration": 8,
    "start_time": "2023-02-10T14:34:38.227Z"
   },
   {
    "duration": 105,
    "start_time": "2023-02-10T14:34:40.018Z"
   },
   {
    "duration": 7,
    "start_time": "2023-02-10T14:34:42.477Z"
   },
   {
    "duration": 18,
    "start_time": "2023-02-10T14:34:44.955Z"
   },
   {
    "duration": 27,
    "start_time": "2023-02-10T14:34:46.736Z"
   },
   {
    "duration": 9,
    "start_time": "2023-02-10T14:34:49.376Z"
   },
   {
    "duration": 10,
    "start_time": "2023-02-10T14:34:51.717Z"
   },
   {
    "duration": 39,
    "start_time": "2023-02-10T14:34:54.594Z"
   },
   {
    "duration": 10,
    "start_time": "2023-02-10T14:34:55.972Z"
   },
   {
    "duration": 11,
    "start_time": "2023-02-10T14:34:58.632Z"
   },
   {
    "duration": 9,
    "start_time": "2023-02-10T14:35:01.392Z"
   },
   {
    "duration": 96,
    "start_time": "2023-02-10T14:35:06.423Z"
   },
   {
    "duration": 9,
    "start_time": "2023-02-10T14:35:08.515Z"
   },
   {
    "duration": 7,
    "start_time": "2023-02-10T14:35:23.842Z"
   },
   {
    "duration": 9,
    "start_time": "2023-02-10T14:35:26.986Z"
   },
   {
    "duration": 36,
    "start_time": "2023-02-10T14:35:29.065Z"
   },
   {
    "duration": 27,
    "start_time": "2023-02-10T14:35:39.722Z"
   },
   {
    "duration": 15,
    "start_time": "2023-02-10T14:35:44.897Z"
   },
   {
    "duration": 19,
    "start_time": "2023-02-10T14:35:47.641Z"
   },
   {
    "duration": 8,
    "start_time": "2023-02-10T14:35:49.146Z"
   },
   {
    "duration": 4,
    "start_time": "2023-02-10T14:35:53.691Z"
   },
   {
    "duration": 7,
    "start_time": "2023-02-10T14:36:54.724Z"
   },
   {
    "duration": 10,
    "start_time": "2023-02-10T14:36:58.468Z"
   },
   {
    "duration": 12,
    "start_time": "2023-02-10T14:37:18.723Z"
   },
   {
    "duration": 10,
    "start_time": "2023-02-10T14:37:41.475Z"
   },
   {
    "duration": 9,
    "start_time": "2023-02-10T14:37:45.227Z"
   },
   {
    "duration": 10,
    "start_time": "2023-02-10T14:37:49.260Z"
   },
   {
    "duration": 14,
    "start_time": "2023-02-10T14:38:22.262Z"
   },
   {
    "duration": 479,
    "start_time": "2023-02-10T17:58:56.450Z"
   },
   {
    "duration": 241,
    "start_time": "2023-02-10T17:58:56.932Z"
   },
   {
    "duration": 16,
    "start_time": "2023-02-10T17:58:57.175Z"
   },
   {
    "duration": 33,
    "start_time": "2023-02-10T17:58:57.193Z"
   },
   {
    "duration": 575,
    "start_time": "2023-02-10T17:58:57.229Z"
   },
   {
    "duration": 777,
    "start_time": "2023-02-10T17:58:57.806Z"
   },
   {
    "duration": 9,
    "start_time": "2023-02-10T17:58:58.585Z"
   },
   {
    "duration": 23,
    "start_time": "2023-02-10T17:58:58.596Z"
   },
   {
    "duration": 177,
    "start_time": "2023-02-10T17:58:58.621Z"
   },
   {
    "duration": 10,
    "start_time": "2023-02-10T17:58:58.800Z"
   },
   {
    "duration": 198,
    "start_time": "2023-02-10T17:58:58.812Z"
   },
   {
    "duration": 9,
    "start_time": "2023-02-10T17:58:59.012Z"
   },
   {
    "duration": 57,
    "start_time": "2023-02-10T17:58:59.023Z"
   },
   {
    "duration": 54,
    "start_time": "2023-02-10T17:58:59.082Z"
   },
   {
    "duration": 10,
    "start_time": "2023-02-10T17:58:59.138Z"
   },
   {
    "duration": 14,
    "start_time": "2023-02-10T17:58:59.150Z"
   },
   {
    "duration": 73,
    "start_time": "2023-02-10T17:58:59.167Z"
   },
   {
    "duration": 11,
    "start_time": "2023-02-10T17:58:59.242Z"
   },
   {
    "duration": 16,
    "start_time": "2023-02-10T17:58:59.255Z"
   },
   {
    "duration": 29,
    "start_time": "2023-02-10T17:58:59.273Z"
   },
   {
    "duration": 94,
    "start_time": "2023-02-10T17:58:59.304Z"
   },
   {
    "duration": 10,
    "start_time": "2023-02-10T17:58:59.400Z"
   },
   {
    "duration": 17,
    "start_time": "2023-02-10T17:58:59.412Z"
   },
   {
    "duration": 8,
    "start_time": "2023-02-10T17:58:59.431Z"
   },
   {
    "duration": 36,
    "start_time": "2023-02-10T17:58:59.441Z"
   },
   {
    "duration": 16,
    "start_time": "2023-02-10T17:58:59.479Z"
   },
   {
    "duration": 41,
    "start_time": "2023-02-10T17:58:59.497Z"
   },
   {
    "duration": 9,
    "start_time": "2023-02-10T17:58:59.542Z"
   },
   {
    "duration": 36,
    "start_time": "2023-02-10T17:58:59.553Z"
   },
   {
    "duration": 92,
    "start_time": "2023-02-10T17:58:59.591Z"
   },
   {
    "duration": 0,
    "start_time": "2023-02-10T17:58:59.685Z"
   },
   {
    "duration": 0,
    "start_time": "2023-02-10T17:58:59.687Z"
   },
   {
    "duration": 0,
    "start_time": "2023-02-10T17:58:59.689Z"
   },
   {
    "duration": 0,
    "start_time": "2023-02-10T17:58:59.690Z"
   },
   {
    "duration": 0,
    "start_time": "2023-02-10T17:58:59.691Z"
   },
   {
    "duration": 0,
    "start_time": "2023-02-10T17:58:59.692Z"
   },
   {
    "duration": 0,
    "start_time": "2023-02-10T17:58:59.693Z"
   },
   {
    "duration": 0,
    "start_time": "2023-02-10T17:58:59.694Z"
   },
   {
    "duration": 0,
    "start_time": "2023-02-10T17:58:59.696Z"
   },
   {
    "duration": 0,
    "start_time": "2023-02-10T17:58:59.697Z"
   },
   {
    "duration": 0,
    "start_time": "2023-02-10T17:58:59.698Z"
   },
   {
    "duration": 0,
    "start_time": "2023-02-10T17:58:59.699Z"
   },
   {
    "duration": 0,
    "start_time": "2023-02-10T17:58:59.701Z"
   },
   {
    "duration": 0,
    "start_time": "2023-02-10T17:58:59.702Z"
   },
   {
    "duration": 0,
    "start_time": "2023-02-10T17:58:59.728Z"
   },
   {
    "duration": 0,
    "start_time": "2023-02-10T17:58:59.728Z"
   },
   {
    "duration": 0,
    "start_time": "2023-02-10T17:58:59.730Z"
   },
   {
    "duration": 0,
    "start_time": "2023-02-10T17:58:59.732Z"
   },
   {
    "duration": 0,
    "start_time": "2023-02-10T17:58:59.733Z"
   },
   {
    "duration": 0,
    "start_time": "2023-02-10T17:58:59.734Z"
   },
   {
    "duration": 0,
    "start_time": "2023-02-10T17:58:59.735Z"
   },
   {
    "duration": 0,
    "start_time": "2023-02-10T17:58:59.736Z"
   },
   {
    "duration": 0,
    "start_time": "2023-02-10T17:58:59.739Z"
   },
   {
    "duration": 0,
    "start_time": "2023-02-10T17:58:59.740Z"
   },
   {
    "duration": 0,
    "start_time": "2023-02-10T17:58:59.741Z"
   },
   {
    "duration": 0,
    "start_time": "2023-02-10T17:58:59.743Z"
   },
   {
    "duration": 0,
    "start_time": "2023-02-10T17:58:59.743Z"
   },
   {
    "duration": 0,
    "start_time": "2023-02-10T17:58:59.746Z"
   },
   {
    "duration": 0,
    "start_time": "2023-02-10T17:58:59.747Z"
   },
   {
    "duration": 8,
    "start_time": "2023-02-10T17:59:50.712Z"
   },
   {
    "duration": 40,
    "start_time": "2023-02-10T17:59:55.038Z"
   },
   {
    "duration": 8,
    "start_time": "2023-02-10T18:00:00.037Z"
   },
   {
    "duration": 28,
    "start_time": "2023-02-10T18:02:54.030Z"
   },
   {
    "duration": 8,
    "start_time": "2023-02-10T18:02:56.172Z"
   },
   {
    "duration": 11,
    "start_time": "2023-02-10T18:03:01.355Z"
   },
   {
    "duration": 3,
    "start_time": "2023-02-10T18:10:04.060Z"
   },
   {
    "duration": 194,
    "start_time": "2023-02-10T18:10:04.068Z"
   },
   {
    "duration": 9,
    "start_time": "2023-02-10T18:10:04.264Z"
   },
   {
    "duration": 24,
    "start_time": "2023-02-10T18:10:04.275Z"
   },
   {
    "duration": 197,
    "start_time": "2023-02-10T18:10:04.301Z"
   },
   {
    "duration": 136,
    "start_time": "2023-02-10T18:10:04.500Z"
   },
   {
    "duration": 10,
    "start_time": "2023-02-10T18:10:04.638Z"
   },
   {
    "duration": 26,
    "start_time": "2023-02-10T18:10:04.650Z"
   },
   {
    "duration": 179,
    "start_time": "2023-02-10T18:10:04.677Z"
   },
   {
    "duration": 10,
    "start_time": "2023-02-10T18:10:04.857Z"
   },
   {
    "duration": 96,
    "start_time": "2023-02-10T18:10:04.871Z"
   },
   {
    "duration": 8,
    "start_time": "2023-02-10T18:10:04.969Z"
   },
   {
    "duration": 19,
    "start_time": "2023-02-10T18:10:04.978Z"
   },
   {
    "duration": 29,
    "start_time": "2023-02-10T18:10:04.999Z"
   },
   {
    "duration": 9,
    "start_time": "2023-02-10T18:10:05.029Z"
   },
   {
    "duration": 13,
    "start_time": "2023-02-10T18:10:05.039Z"
   },
   {
    "duration": 30,
    "start_time": "2023-02-10T18:10:05.054Z"
   },
   {
    "duration": 10,
    "start_time": "2023-02-10T18:10:05.086Z"
   },
   {
    "duration": 73,
    "start_time": "2023-02-10T18:10:05.098Z"
   },
   {
    "duration": 28,
    "start_time": "2023-02-10T18:10:05.173Z"
   },
   {
    "duration": 75,
    "start_time": "2023-02-10T18:10:05.202Z"
   },
   {
    "duration": 9,
    "start_time": "2023-02-10T18:10:05.279Z"
   },
   {
    "duration": 17,
    "start_time": "2023-02-10T18:10:05.289Z"
   },
   {
    "duration": 7,
    "start_time": "2023-02-10T18:10:05.308Z"
   },
   {
    "duration": 34,
    "start_time": "2023-02-10T18:10:05.316Z"
   },
   {
    "duration": 15,
    "start_time": "2023-02-10T18:10:05.352Z"
   },
   {
    "duration": 18,
    "start_time": "2023-02-10T18:10:05.369Z"
   },
   {
    "duration": 9,
    "start_time": "2023-02-10T18:10:05.389Z"
   },
   {
    "duration": 28,
    "start_time": "2023-02-10T18:10:05.426Z"
   },
   {
    "duration": 9,
    "start_time": "2023-02-10T18:10:05.456Z"
   },
   {
    "duration": 38,
    "start_time": "2023-02-10T18:10:05.467Z"
   },
   {
    "duration": 28,
    "start_time": "2023-02-10T18:10:05.507Z"
   },
   {
    "duration": 6,
    "start_time": "2023-02-10T18:10:05.537Z"
   },
   {
    "duration": 11,
    "start_time": "2023-02-10T18:10:05.544Z"
   },
   {
    "duration": 5,
    "start_time": "2023-02-10T18:10:05.557Z"
   },
   {
    "duration": 4,
    "start_time": "2023-02-10T18:10:05.564Z"
   },
   {
    "duration": 8,
    "start_time": "2023-02-10T18:10:05.570Z"
   },
   {
    "duration": 9,
    "start_time": "2023-02-10T18:10:05.580Z"
   },
   {
    "duration": 0,
    "start_time": "2023-02-10T18:10:05.591Z"
   },
   {
    "duration": 0,
    "start_time": "2023-02-10T18:10:05.592Z"
   },
   {
    "duration": 0,
    "start_time": "2023-02-10T18:10:05.593Z"
   },
   {
    "duration": 0,
    "start_time": "2023-02-10T18:10:05.595Z"
   },
   {
    "duration": 0,
    "start_time": "2023-02-10T18:10:05.596Z"
   },
   {
    "duration": 0,
    "start_time": "2023-02-10T18:10:05.597Z"
   },
   {
    "duration": 0,
    "start_time": "2023-02-10T18:10:05.598Z"
   },
   {
    "duration": 0,
    "start_time": "2023-02-10T18:10:05.599Z"
   },
   {
    "duration": 0,
    "start_time": "2023-02-10T18:10:05.600Z"
   },
   {
    "duration": 0,
    "start_time": "2023-02-10T18:10:05.627Z"
   },
   {
    "duration": 0,
    "start_time": "2023-02-10T18:10:05.628Z"
   },
   {
    "duration": 0,
    "start_time": "2023-02-10T18:10:05.630Z"
   },
   {
    "duration": 0,
    "start_time": "2023-02-10T18:10:05.631Z"
   },
   {
    "duration": 0,
    "start_time": "2023-02-10T18:10:05.632Z"
   },
   {
    "duration": 0,
    "start_time": "2023-02-10T18:10:05.633Z"
   },
   {
    "duration": 0,
    "start_time": "2023-02-10T18:10:05.634Z"
   },
   {
    "duration": 0,
    "start_time": "2023-02-10T18:10:05.635Z"
   },
   {
    "duration": 0,
    "start_time": "2023-02-10T18:10:05.636Z"
   },
   {
    "duration": 0,
    "start_time": "2023-02-10T18:10:05.637Z"
   },
   {
    "duration": 0,
    "start_time": "2023-02-10T18:10:05.639Z"
   },
   {
    "duration": 314,
    "start_time": "2023-02-10T18:10:52.637Z"
   },
   {
    "duration": 24,
    "start_time": "2023-02-10T18:11:21.678Z"
   },
   {
    "duration": 543,
    "start_time": "2023-02-11T17:24:07.920Z"
   },
   {
    "duration": 560,
    "start_time": "2023-02-11T17:24:08.468Z"
   },
   {
    "duration": 32,
    "start_time": "2023-02-11T17:24:09.029Z"
   },
   {
    "duration": 62,
    "start_time": "2023-02-11T17:24:09.064Z"
   },
   {
    "duration": 660,
    "start_time": "2023-02-11T17:24:09.128Z"
   },
   {
    "duration": 416,
    "start_time": "2023-02-11T17:24:09.790Z"
   },
   {
    "duration": 10,
    "start_time": "2023-02-11T17:24:10.208Z"
   },
   {
    "duration": 47,
    "start_time": "2023-02-11T17:24:10.220Z"
   },
   {
    "duration": 191,
    "start_time": "2023-02-11T17:24:10.270Z"
   },
   {
    "duration": 12,
    "start_time": "2023-02-11T17:24:10.464Z"
   },
   {
    "duration": 367,
    "start_time": "2023-02-11T17:24:10.479Z"
   },
   {
    "duration": 10,
    "start_time": "2023-02-11T17:24:10.848Z"
   },
   {
    "duration": 45,
    "start_time": "2023-02-11T17:24:10.860Z"
   },
   {
    "duration": 92,
    "start_time": "2023-02-11T17:24:10.906Z"
   },
   {
    "duration": 9,
    "start_time": "2023-02-11T17:24:10.999Z"
   },
   {
    "duration": 28,
    "start_time": "2023-02-11T17:24:11.009Z"
   },
   {
    "duration": 80,
    "start_time": "2023-02-11T17:24:11.039Z"
   },
   {
    "duration": 10,
    "start_time": "2023-02-11T17:24:11.121Z"
   },
   {
    "duration": 51,
    "start_time": "2023-02-11T17:24:11.133Z"
   },
   {
    "duration": 23,
    "start_time": "2023-02-11T17:24:11.186Z"
   },
   {
    "duration": 150,
    "start_time": "2023-02-11T17:24:11.211Z"
   },
   {
    "duration": 22,
    "start_time": "2023-02-11T17:24:11.364Z"
   },
   {
    "duration": 25,
    "start_time": "2023-02-11T17:24:11.388Z"
   },
   {
    "duration": 36,
    "start_time": "2023-02-11T17:24:11.415Z"
   },
   {
    "duration": 58,
    "start_time": "2023-02-11T17:24:11.453Z"
   },
   {
    "duration": 17,
    "start_time": "2023-02-11T17:24:11.513Z"
   },
   {
    "duration": 68,
    "start_time": "2023-02-11T17:24:11.532Z"
   },
   {
    "duration": 12,
    "start_time": "2023-02-11T17:24:11.604Z"
   },
   {
    "duration": 88,
    "start_time": "2023-02-11T17:24:11.617Z"
   },
   {
    "duration": 9,
    "start_time": "2023-02-11T17:24:11.707Z"
   },
   {
    "duration": 67,
    "start_time": "2023-02-11T17:24:11.719Z"
   },
   {
    "duration": 10,
    "start_time": "2023-02-11T17:24:11.788Z"
   },
   {
    "duration": 29,
    "start_time": "2023-02-11T17:24:11.800Z"
   },
   {
    "duration": 19,
    "start_time": "2023-02-11T17:24:11.831Z"
   },
   {
    "duration": 37,
    "start_time": "2023-02-11T17:24:11.852Z"
   },
   {
    "duration": 29,
    "start_time": "2023-02-11T17:24:11.891Z"
   },
   {
    "duration": 18,
    "start_time": "2023-02-11T17:24:11.922Z"
   },
   {
    "duration": 102,
    "start_time": "2023-02-11T17:24:11.942Z"
   },
   {
    "duration": 0,
    "start_time": "2023-02-11T17:24:12.046Z"
   },
   {
    "duration": 0,
    "start_time": "2023-02-11T17:24:12.048Z"
   },
   {
    "duration": 0,
    "start_time": "2023-02-11T17:24:12.050Z"
   },
   {
    "duration": 0,
    "start_time": "2023-02-11T17:24:12.052Z"
   },
   {
    "duration": 0,
    "start_time": "2023-02-11T17:24:12.053Z"
   },
   {
    "duration": 0,
    "start_time": "2023-02-11T17:24:12.054Z"
   },
   {
    "duration": 0,
    "start_time": "2023-02-11T17:24:12.056Z"
   },
   {
    "duration": 0,
    "start_time": "2023-02-11T17:24:12.058Z"
   },
   {
    "duration": 0,
    "start_time": "2023-02-11T17:24:12.059Z"
   },
   {
    "duration": 0,
    "start_time": "2023-02-11T17:24:12.060Z"
   },
   {
    "duration": 0,
    "start_time": "2023-02-11T17:24:12.062Z"
   },
   {
    "duration": 0,
    "start_time": "2023-02-11T17:24:12.063Z"
   },
   {
    "duration": 0,
    "start_time": "2023-02-11T17:24:12.065Z"
   },
   {
    "duration": 0,
    "start_time": "2023-02-11T17:24:12.067Z"
   },
   {
    "duration": 0,
    "start_time": "2023-02-11T17:24:12.069Z"
   },
   {
    "duration": 0,
    "start_time": "2023-02-11T17:24:12.071Z"
   },
   {
    "duration": 0,
    "start_time": "2023-02-11T17:24:12.073Z"
   },
   {
    "duration": 0,
    "start_time": "2023-02-11T17:24:12.074Z"
   },
   {
    "duration": 0,
    "start_time": "2023-02-11T17:24:12.076Z"
   },
   {
    "duration": 0,
    "start_time": "2023-02-11T17:24:12.077Z"
   },
   {
    "duration": 32,
    "start_time": "2023-02-11T17:28:40.684Z"
   },
   {
    "duration": 12,
    "start_time": "2023-02-11T17:29:32.784Z"
   },
   {
    "duration": 13,
    "start_time": "2023-02-11T17:29:56.861Z"
   },
   {
    "duration": 11,
    "start_time": "2023-02-11T17:35:26.244Z"
   },
   {
    "duration": 167,
    "start_time": "2023-02-11T17:35:28.788Z"
   },
   {
    "duration": 183,
    "start_time": "2023-02-11T17:35:32.630Z"
   },
   {
    "duration": 7,
    "start_time": "2023-02-11T17:35:41.822Z"
   },
   {
    "duration": 3,
    "start_time": "2023-02-11T17:35:49.608Z"
   },
   {
    "duration": 272,
    "start_time": "2023-02-11T17:35:51.034Z"
   },
   {
    "duration": 13,
    "start_time": "2023-02-11T17:35:52.734Z"
   },
   {
    "duration": 29,
    "start_time": "2023-02-11T17:35:55.751Z"
   },
   {
    "duration": 289,
    "start_time": "2023-02-11T17:35:58.497Z"
   },
   {
    "duration": 178,
    "start_time": "2023-02-11T17:36:02.577Z"
   },
   {
    "duration": 11,
    "start_time": "2023-02-11T17:36:03.859Z"
   },
   {
    "duration": 22,
    "start_time": "2023-02-11T17:36:06.018Z"
   },
   {
    "duration": 217,
    "start_time": "2023-02-11T17:36:07.930Z"
   },
   {
    "duration": 24,
    "start_time": "2023-02-11T17:36:10.534Z"
   },
   {
    "duration": 104,
    "start_time": "2023-02-11T17:36:14.124Z"
   },
   {
    "duration": 8,
    "start_time": "2023-02-11T17:36:15.418Z"
   },
   {
    "duration": 18,
    "start_time": "2023-02-11T17:36:17.518Z"
   },
   {
    "duration": 28,
    "start_time": "2023-02-11T17:36:22.321Z"
   },
   {
    "duration": 9,
    "start_time": "2023-02-11T17:36:23.417Z"
   },
   {
    "duration": 12,
    "start_time": "2023-02-11T17:36:25.476Z"
   },
   {
    "duration": 39,
    "start_time": "2023-02-11T17:36:28.014Z"
   },
   {
    "duration": 17,
    "start_time": "2023-02-11T17:36:29.369Z"
   },
   {
    "duration": 15,
    "start_time": "2023-02-11T17:36:31.815Z"
   },
   {
    "duration": 11,
    "start_time": "2023-02-11T17:36:35.230Z"
   },
   {
    "duration": 73,
    "start_time": "2023-02-11T17:36:37.457Z"
   },
   {
    "duration": 27,
    "start_time": "2023-02-11T17:36:39.156Z"
   },
   {
    "duration": 7,
    "start_time": "2023-02-11T17:36:42.255Z"
   },
   {
    "duration": 8,
    "start_time": "2023-02-11T17:36:44.645Z"
   },
   {
    "duration": 29,
    "start_time": "2023-02-11T17:36:47.110Z"
   },
   {
    "duration": 19,
    "start_time": "2023-02-11T17:36:49.574Z"
   },
   {
    "duration": 21,
    "start_time": "2023-02-11T17:36:51.043Z"
   },
   {
    "duration": 13,
    "start_time": "2023-02-11T17:36:52.549Z"
   },
   {
    "duration": 29,
    "start_time": "2023-02-11T17:36:54.883Z"
   },
   {
    "duration": 9,
    "start_time": "2023-02-11T17:36:56.426Z"
   },
   {
    "duration": 44,
    "start_time": "2023-02-11T17:37:00.818Z"
   },
   {
    "duration": 9,
    "start_time": "2023-02-11T17:37:03.796Z"
   },
   {
    "duration": 121,
    "start_time": "2023-02-11T17:37:08.727Z"
   },
   {
    "duration": 7,
    "start_time": "2023-02-11T17:37:11.910Z"
   },
   {
    "duration": 27,
    "start_time": "2023-02-11T17:37:59.523Z"
   },
   {
    "duration": 8,
    "start_time": "2023-02-11T17:38:01.726Z"
   },
   {
    "duration": 10,
    "start_time": "2023-02-11T17:38:15.879Z"
   },
   {
    "duration": 39,
    "start_time": "2023-02-11T17:39:47.729Z"
   },
   {
    "duration": 10,
    "start_time": "2023-02-11T17:39:49.679Z"
   },
   {
    "duration": 6,
    "start_time": "2023-02-11T17:40:07.529Z"
   },
   {
    "duration": 38,
    "start_time": "2023-02-11T17:40:10.191Z"
   },
   {
    "duration": 8,
    "start_time": "2023-02-11T17:40:13.190Z"
   },
   {
    "duration": 7,
    "start_time": "2023-02-11T17:40:17.013Z"
   },
   {
    "duration": 4,
    "start_time": "2023-02-11T17:40:19.028Z"
   },
   {
    "duration": 8,
    "start_time": "2023-02-11T17:40:20.587Z"
   },
   {
    "duration": 17,
    "start_time": "2023-02-11T17:40:22.838Z"
   },
   {
    "duration": 8,
    "start_time": "2023-02-11T17:40:25.141Z"
   },
   {
    "duration": 9,
    "start_time": "2023-02-11T17:40:26.273Z"
   },
   {
    "duration": 8,
    "start_time": "2023-02-11T17:40:28.429Z"
   },
   {
    "duration": 74,
    "start_time": "2023-02-11T17:40:32.926Z"
   },
   {
    "duration": 880,
    "start_time": "2023-02-11T17:40:35.469Z"
   },
   {
    "duration": 320,
    "start_time": "2023-02-11T17:40:38.566Z"
   },
   {
    "duration": 241,
    "start_time": "2023-02-11T17:40:41.217Z"
   },
   {
    "duration": 287,
    "start_time": "2023-02-11T17:40:46.140Z"
   },
   {
    "duration": 236,
    "start_time": "2023-02-11T17:40:48.817Z"
   },
   {
    "duration": 321,
    "start_time": "2023-02-11T17:40:51.476Z"
   },
   {
    "duration": 371,
    "start_time": "2023-02-11T17:40:54.214Z"
   },
   {
    "duration": 5,
    "start_time": "2023-02-11T17:40:57.482Z"
   },
   {
    "duration": 51,
    "start_time": "2023-02-11T17:40:59.328Z"
   },
   {
    "duration": 12,
    "start_time": "2023-02-11T17:49:52.437Z"
   },
   {
    "duration": 11,
    "start_time": "2023-02-11T17:54:04.731Z"
   },
   {
    "duration": 9,
    "start_time": "2023-02-11T17:55:26.406Z"
   },
   {
    "duration": 1156,
    "start_time": "2023-02-11T17:58:43.922Z"
   },
   {
    "duration": 8,
    "start_time": "2023-02-11T17:59:14.924Z"
   },
   {
    "duration": 442,
    "start_time": "2023-02-12T08:50:30.717Z"
   },
   {
    "duration": 232,
    "start_time": "2023-02-12T08:50:31.161Z"
   },
   {
    "duration": 14,
    "start_time": "2023-02-12T08:50:31.395Z"
   },
   {
    "duration": 31,
    "start_time": "2023-02-12T08:50:31.411Z"
   },
   {
    "duration": 765,
    "start_time": "2023-02-12T08:50:31.444Z"
   },
   {
    "duration": 418,
    "start_time": "2023-02-12T08:50:32.211Z"
   },
   {
    "duration": 10,
    "start_time": "2023-02-12T08:50:32.631Z"
   },
   {
    "duration": 30,
    "start_time": "2023-02-12T08:50:32.642Z"
   },
   {
    "duration": 168,
    "start_time": "2023-02-12T08:50:32.674Z"
   },
   {
    "duration": 10,
    "start_time": "2023-02-12T08:50:32.845Z"
   },
   {
    "duration": 145,
    "start_time": "2023-02-12T08:50:32.857Z"
   },
   {
    "duration": 7,
    "start_time": "2023-02-12T08:50:33.004Z"
   },
   {
    "duration": 20,
    "start_time": "2023-02-12T08:50:33.012Z"
   },
   {
    "duration": 58,
    "start_time": "2023-02-12T08:50:33.033Z"
   },
   {
    "duration": 8,
    "start_time": "2023-02-12T08:50:33.093Z"
   },
   {
    "duration": 14,
    "start_time": "2023-02-12T08:50:33.103Z"
   },
   {
    "duration": 81,
    "start_time": "2023-02-12T08:50:33.119Z"
   },
   {
    "duration": 10,
    "start_time": "2023-02-12T08:50:33.202Z"
   },
   {
    "duration": 11,
    "start_time": "2023-02-12T08:50:33.214Z"
   },
   {
    "duration": 8,
    "start_time": "2023-02-12T08:50:33.227Z"
   },
   {
    "duration": 84,
    "start_time": "2023-02-12T08:50:33.236Z"
   },
   {
    "duration": 16,
    "start_time": "2023-02-12T08:50:33.323Z"
   },
   {
    "duration": 17,
    "start_time": "2023-02-12T08:50:33.340Z"
   },
   {
    "duration": 11,
    "start_time": "2023-02-12T08:50:33.359Z"
   },
   {
    "duration": 34,
    "start_time": "2023-02-12T08:50:33.371Z"
   },
   {
    "duration": 30,
    "start_time": "2023-02-12T08:50:33.407Z"
   },
   {
    "duration": 19,
    "start_time": "2023-02-12T08:50:33.439Z"
   },
   {
    "duration": 8,
    "start_time": "2023-02-12T08:50:33.463Z"
   },
   {
    "duration": 37,
    "start_time": "2023-02-12T08:50:33.473Z"
   },
   {
    "duration": 8,
    "start_time": "2023-02-12T08:50:33.512Z"
   },
   {
    "duration": 38,
    "start_time": "2023-02-12T08:50:33.537Z"
   },
   {
    "duration": 10,
    "start_time": "2023-02-12T08:50:33.576Z"
   },
   {
    "duration": 23,
    "start_time": "2023-02-12T08:50:33.588Z"
   },
   {
    "duration": 25,
    "start_time": "2023-02-12T08:50:33.612Z"
   },
   {
    "duration": 20,
    "start_time": "2023-02-12T08:50:33.639Z"
   },
   {
    "duration": 11,
    "start_time": "2023-02-12T08:50:33.662Z"
   },
   {
    "duration": 18,
    "start_time": "2023-02-12T08:50:33.676Z"
   },
   {
    "duration": 118,
    "start_time": "2023-02-12T08:50:33.696Z"
   },
   {
    "duration": 7,
    "start_time": "2023-02-12T08:50:33.816Z"
   },
   {
    "duration": 14,
    "start_time": "2023-02-12T08:50:33.825Z"
   },
   {
    "duration": 13,
    "start_time": "2023-02-12T08:50:33.840Z"
   },
   {
    "duration": 23,
    "start_time": "2023-02-12T08:50:33.855Z"
   },
   {
    "duration": 12,
    "start_time": "2023-02-12T08:50:33.880Z"
   },
   {
    "duration": 11,
    "start_time": "2023-02-12T08:50:33.893Z"
   },
   {
    "duration": 23,
    "start_time": "2023-02-12T08:50:33.905Z"
   },
   {
    "duration": 25,
    "start_time": "2023-02-12T08:50:33.930Z"
   },
   {
    "duration": 87,
    "start_time": "2023-02-12T08:50:33.957Z"
   }
  ],
  "colab": {
   "provenance": []
  },
  "kernelspec": {
   "display_name": "Python 3 (ipykernel)",
   "language": "python",
   "name": "python3"
  },
  "language_info": {
   "codemirror_mode": {
    "name": "ipython",
    "version": 3
   },
   "file_extension": ".py",
   "mimetype": "text/x-python",
   "name": "python",
   "nbconvert_exporter": "python",
   "pygments_lexer": "ipython3",
   "version": "3.9.13"
  },
  "toc": {
   "base_numbering": 1,
   "nav_menu": {},
   "number_sections": true,
   "sideBar": true,
   "skip_h1_title": true,
   "title_cell": "Table of Contents",
   "title_sidebar": "Contents",
   "toc_cell": false,
   "toc_position": {},
   "toc_section_display": true,
   "toc_window_display": false
  }
 },
 "nbformat": 4,
 "nbformat_minor": 1
}
